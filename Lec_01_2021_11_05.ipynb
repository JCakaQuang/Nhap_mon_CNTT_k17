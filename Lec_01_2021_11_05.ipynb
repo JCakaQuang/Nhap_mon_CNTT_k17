{
  "nbformat": 4,
  "nbformat_minor": 0,
  "metadata": {
    "colab": {
      "provenance": []
    },
    "kernelspec": {
      "name": "python3",
      "display_name": "Python 3"
    },
    "language_info": {
      "name": "python"
    }
  },
  "cells": [
    {
      "cell_type": "markdown",
      "metadata": {
        "id": "822rn9L_51BV"
      },
      "source": [
        "1. In ra đường dẫn thư mục đang làm việc"
      ]
    },
    {
      "cell_type": "code",
      "metadata": {
        "id": "KocuyH2454K8"
      },
      "source": [
        "$ pwd"
      ],
      "execution_count": null,
      "outputs": []
    },
    {
      "cell_type": "markdown",
      "metadata": {
        "id": "x4gPT7Im6inN"
      },
      "source": [
        "2. Hiển thị các thư mục, các file trong một thư mục"
      ]
    },
    {
      "cell_type": "code",
      "metadata": {
        "id": "md7SiiF26rJk"
      },
      "source": [
        "$ ls"
      ],
      "execution_count": null,
      "outputs": []
    },
    {
      "cell_type": "markdown",
      "metadata": {
        "id": "g5wS7zL37VCk"
      },
      "source": [
        "3. Di chuyển đến một thư mục"
      ]
    },
    {
      "cell_type": "code",
      "metadata": {
        "id": "Hx515SLP7Zbc"
      },
      "source": [
        "$ cd đường_dẫn_thư_mục"
      ],
      "execution_count": null,
      "outputs": []
    },
    {
      "cell_type": "markdown",
      "metadata": {
        "id": "Sjc7qf_v7tUE"
      },
      "source": [
        "4. Tạo một thư mục"
      ]
    },
    {
      "cell_type": "code",
      "metadata": {
        "id": "InXffeV47vV8"
      },
      "source": [
        "$ mkdir tên_thư_mục"
      ],
      "execution_count": null,
      "outputs": []
    },
    {
      "cell_type": "markdown",
      "metadata": {
        "id": "Xo6GEBBI7z-M"
      },
      "source": [
        "5. Di chuyển một thư mục"
      ]
    },
    {
      "cell_type": "code",
      "metadata": {
        "id": "fVuYunkF8WlF"
      },
      "source": [
        "$ mv thư_mục_cần_di_chuyển đường_dẫn_thư_mục_đích"
      ],
      "execution_count": null,
      "outputs": []
    },
    {
      "cell_type": "markdown",
      "metadata": {
        "id": "aYJZt6PP9U6_"
      },
      "source": [
        "6. Đổi tên một thư mục"
      ]
    },
    {
      "cell_type": "code",
      "metadata": {
        "id": "s1HpEfPX9Y3N"
      },
      "source": [
        "$ mv tên_thư_mục tên_thư_mục_mới"
      ],
      "execution_count": null,
      "outputs": []
    },
    {
      "cell_type": "markdown",
      "metadata": {
        "id": "bH8A6agMDS9p"
      },
      "source": [
        "7. Xóa một thư mục"
      ]
    },
    {
      "cell_type": "code",
      "metadata": {
        "id": "yYqlZZf4DUwP"
      },
      "source": [
        "$ rm -r đường_dẫn_thư_mục"
      ],
      "execution_count": null,
      "outputs": []
    },
    {
      "cell_type": "code",
      "metadata": {
        "id": "hTZt3bexDb6P"
      },
      "source": [
        "$ rmdir đường_dẫn_thư_mục     (chỉ áp dụng cho thư mục trống)"
      ],
      "execution_count": null,
      "outputs": []
    },
    {
      "cell_type": "markdown",
      "metadata": {
        "id": "Tosr6qGKLr7l"
      },
      "source": [
        "8. Copy thư mục"
      ]
    },
    {
      "cell_type": "code",
      "metadata": {
        "id": "4gW0T9fzLvGD"
      },
      "source": [
        "$ cp -r đường_dẫn_thư_mục_nguồn đường_dẫn_thư_mục_đích"
      ],
      "execution_count": null,
      "outputs": []
    },
    {
      "cell_type": "markdown",
      "metadata": {
        "id": "FpkDjRDWOKld"
      },
      "source": [
        "# Thao tác với file"
      ]
    },
    {
      "cell_type": "markdown",
      "metadata": {
        "id": "J927gvteORDT"
      },
      "source": [
        "1. Đổi tên file"
      ]
    },
    {
      "cell_type": "code",
      "metadata": {
        "id": "8NbmcVqeOWOh"
      },
      "source": [
        "$ mv đường_dẫn_file_nguồn Đường_dẫn_thư_mục_Tên_file_mới"
      ],
      "execution_count": null,
      "outputs": []
    },
    {
      "cell_type": "markdown",
      "metadata": {
        "id": "hRRciMXcPAZE"
      },
      "source": [
        "2. Copy file"
      ]
    },
    {
      "cell_type": "code",
      "metadata": {
        "id": "X_Kx_sgFPN6B"
      },
      "source": [
        "$ cp đường_dẫn_file_nguồn Đường_dẫn_thư_mục_mới"
      ],
      "execution_count": null,
      "outputs": []
    }
  ]
}