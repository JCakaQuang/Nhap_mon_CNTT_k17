{
  "nbformat": 4,
  "nbformat_minor": 0,
  "metadata": {
    "colab": {
      "provenance": []
    },
    "kernelspec": {
      "name": "python3",
      "display_name": "Python 3"
    },
    "language_info": {
      "name": "python"
    }
  },
  "cells": [
    {
      "cell_type": "markdown",
      "source": [
        "## Kiểu dữ liệu danh sách"
      ],
      "metadata": {
        "id": "0DsrdGPDuSmC"
      }
    },
    {
      "cell_type": "markdown",
      "source": [
        "Danh_sách=$[A_0, A_1, \\dots , A_{n-1}]$"
      ],
      "metadata": {
        "id": "6PIXIPriuidx"
      }
    },
    {
      "cell_type": "code",
      "source": [
        "Danh_sach=[1,1.2, 3 +4j, [1,2,3]]"
      ],
      "metadata": {
        "id": "BIIIf62pub5S"
      },
      "execution_count": null,
      "outputs": []
    },
    {
      "cell_type": "markdown",
      "source": [
        "Hàm trả về độ dài (kích thước) của một danh sách"
      ],
      "metadata": {
        "id": "svOqBT3uu3Eq"
      }
    },
    {
      "cell_type": "code",
      "source": [
        "print(len(Danh_sach))"
      ],
      "metadata": {
        "colab": {
          "base_uri": "https://localhost:8080/"
        },
        "id": "tAdRjZvBu7-S",
        "outputId": "e2e93911-66b3-40f9-ee68-af57ae6def4e"
      },
      "execution_count": null,
      "outputs": [
        {
          "output_type": "stream",
          "name": "stdout",
          "text": [
            "4\n"
          ]
        }
      ]
    },
    {
      "cell_type": "markdown",
      "source": [
        "Gọi các phần tử thứ $i$ của một danh sách"
      ],
      "metadata": {
        "id": "iLRrs-PkvDQ6"
      }
    },
    {
      "cell_type": "code",
      "source": [
        "print(Danh_sach[0])"
      ],
      "metadata": {
        "colab": {
          "base_uri": "https://localhost:8080/"
        },
        "id": "DVqMuDYyu2hq",
        "outputId": "ffba47a5-26d4-4391-ccc5-3e3b5c0036ab"
      },
      "execution_count": null,
      "outputs": [
        {
          "output_type": "stream",
          "name": "stdout",
          "text": [
            "1\n"
          ]
        }
      ]
    },
    {
      "cell_type": "code",
      "source": [
        "n=len(Danh_sach)\n",
        "print(Danh_sach[n-1])"
      ],
      "metadata": {
        "colab": {
          "base_uri": "https://localhost:8080/"
        },
        "id": "QqVyjVLOu08a",
        "outputId": "b8b50472-4c97-4901-92e8-0a0f56376f91"
      },
      "execution_count": null,
      "outputs": [
        {
          "output_type": "stream",
          "name": "stdout",
          "text": [
            "[1, 2, 3]\n"
          ]
        }
      ]
    },
    {
      "cell_type": "code",
      "source": [
        "print(Danh_sach[-1])"
      ],
      "metadata": {
        "colab": {
          "base_uri": "https://localhost:8080/"
        },
        "id": "i0YH4Qwwva0i",
        "outputId": "9780f3dc-c3e8-48e5-8261-325314890f69"
      },
      "execution_count": null,
      "outputs": [
        {
          "output_type": "stream",
          "name": "stdout",
          "text": [
            "[1, 2, 3]\n"
          ]
        }
      ]
    },
    {
      "cell_type": "markdown",
      "source": [
        "## Tạo một danh sách"
      ],
      "metadata": {
        "id": "q-pbNEICvoay"
      }
    },
    {
      "cell_type": "code",
      "source": [
        "Danh_sach=[]"
      ],
      "metadata": {
        "id": "o6PH3tZ8vq7y"
      },
      "execution_count": null,
      "outputs": []
    },
    {
      "cell_type": "code",
      "source": [
        "print(type(Danh_sach))"
      ],
      "metadata": {
        "colab": {
          "base_uri": "https://localhost:8080/"
        },
        "id": "-_XgEe-dvuQa",
        "outputId": "22090685-84ec-49f9-bdd2-624854b8ee2b"
      },
      "execution_count": null,
      "outputs": [
        {
          "output_type": "stream",
          "name": "stdout",
          "text": [
            "<class 'list'>\n"
          ]
        }
      ]
    },
    {
      "cell_type": "code",
      "source": [
        "Danh_sach.append(1)\n",
        "print(Danh_sach)"
      ],
      "metadata": {
        "colab": {
          "base_uri": "https://localhost:8080/"
        },
        "id": "hyiFUZmSvyXR",
        "outputId": "857f959e-e966-4d5b-a63f-97d6ff025c9a"
      },
      "execution_count": null,
      "outputs": [
        {
          "output_type": "stream",
          "name": "stdout",
          "text": [
            "[1]\n"
          ]
        }
      ]
    },
    {
      "cell_type": "code",
      "source": [
        "Danh_sach.append(1.2)\n",
        "print(Danh_sach)"
      ],
      "metadata": {
        "colab": {
          "base_uri": "https://localhost:8080/"
        },
        "id": "ATwvh5NRv5kh",
        "outputId": "354d0f41-737b-4bff-cfd0-38c1e9954de4"
      },
      "execution_count": null,
      "outputs": [
        {
          "output_type": "stream",
          "name": "stdout",
          "text": [
            "[1, 1.2]\n"
          ]
        }
      ]
    },
    {
      "cell_type": "code",
      "source": [
        "Danh_sach.append(3+4j)"
      ],
      "metadata": {
        "id": "PumlsJcVwD6i"
      },
      "execution_count": null,
      "outputs": []
    },
    {
      "cell_type": "code",
      "source": [
        "print(Danh_sach)"
      ],
      "metadata": {
        "colab": {
          "base_uri": "https://localhost:8080/"
        },
        "id": "mlZleihSwIc6",
        "outputId": "e59df4ad-62da-4c50-f34b-f2e4f0778950"
      },
      "execution_count": null,
      "outputs": [
        {
          "output_type": "stream",
          "name": "stdout",
          "text": [
            "[1, 1.2, (3+4j)]\n"
          ]
        }
      ]
    },
    {
      "cell_type": "markdown",
      "source": [
        "**Hàm pop(), lấy một tử ra khỏi danh sách**"
      ],
      "metadata": {
        "id": "yefXjh9kwWKS"
      }
    },
    {
      "cell_type": "code",
      "source": [
        "Danh_sach.pop(1)"
      ],
      "metadata": {
        "colab": {
          "base_uri": "https://localhost:8080/"
        },
        "id": "K9QZpEp1wZ9K",
        "outputId": "43fd2bd6-a995-4999-e280-83e52df3d976"
      },
      "execution_count": null,
      "outputs": [
        {
          "output_type": "execute_result",
          "data": {
            "text/plain": [
              "1.2"
            ]
          },
          "metadata": {},
          "execution_count": 29
        }
      ]
    },
    {
      "cell_type": "code",
      "source": [
        "print(Danh_sach)"
      ],
      "metadata": {
        "colab": {
          "base_uri": "https://localhost:8080/"
        },
        "id": "47Rt40yswhgK",
        "outputId": "02cc24ac-d96e-4d7d-c791-43d9d94bb386"
      },
      "execution_count": null,
      "outputs": [
        {
          "output_type": "stream",
          "name": "stdout",
          "text": [
            "[1, (3+4j)]\n"
          ]
        }
      ]
    },
    {
      "cell_type": "markdown",
      "source": [
        "Hàm clear(), xóa toàn bộ danh sách"
      ],
      "metadata": {
        "id": "ypduTqMMwl16"
      }
    },
    {
      "cell_type": "code",
      "source": [
        "Danh_sach.clear()\n",
        "print(Danh_sach)"
      ],
      "metadata": {
        "colab": {
          "base_uri": "https://localhost:8080/"
        },
        "id": "D2PIScscwpFz",
        "outputId": "5b952eb1-e851-441e-8044-f64d2ec040cb"
      },
      "execution_count": null,
      "outputs": [
        {
          "output_type": "stream",
          "name": "stdout",
          "text": [
            "[]\n"
          ]
        }
      ]
    },
    {
      "cell_type": "markdown",
      "source": [
        "## Kiểu dữ liệu từ điển"
      ],
      "metadata": {
        "id": "yEJQPCFdw1S6"
      }
    },
    {
      "cell_type": "markdown",
      "source": [
        "Tu_Dien={ 'Từ khóa 1': Giá trị tương ứng với từ khóa 1, 'Từ khóa 2': Giá trị tương ứng với từ khóa 2, ...., 'từ khóa thứ n-1': Giá trị tương ứng với từ khóa thứ n-1  }"
      ],
      "metadata": {
        "id": "97kYO57GxIua"
      }
    },
    {
      "cell_type": "code",
      "source": [
        "Sinh_Vien={'Ho_ten': 'Nguyen Van A','Que_quan': 'Hà Nội','Tuoi': 19, 'MSSV':123456, 'Gioi_tinh': 'Nam'}"
      ],
      "metadata": {
        "id": "sSw4GzhWxmfz"
      },
      "execution_count": null,
      "outputs": []
    },
    {
      "cell_type": "code",
      "source": [
        "print(type(Sinh_Vien))"
      ],
      "metadata": {
        "colab": {
          "base_uri": "https://localhost:8080/"
        },
        "id": "CxA6k0n8x7Rq",
        "outputId": "f89f1149-6150-4e9a-f380-815bbb01bb02"
      },
      "execution_count": null,
      "outputs": [
        {
          "output_type": "stream",
          "name": "stdout",
          "text": [
            "<class 'dict'>\n"
          ]
        }
      ]
    },
    {
      "cell_type": "code",
      "source": [
        "Sinh_Vien.keys()"
      ],
      "metadata": {
        "colab": {
          "base_uri": "https://localhost:8080/"
        },
        "id": "I294dQluyA0K",
        "outputId": "b2baa698-dd12-43ba-f867-7694c806e479"
      },
      "execution_count": null,
      "outputs": [
        {
          "output_type": "execute_result",
          "data": {
            "text/plain": [
              "dict_keys(['Ho_ten', 'Que_quan', 'Tuoi', 'MSSV', 'Gioi_tinh'])"
            ]
          },
          "metadata": {},
          "execution_count": 35
        }
      ]
    },
    {
      "cell_type": "code",
      "source": [
        "Sinh_Vien['Gioi_tinh']"
      ],
      "metadata": {
        "colab": {
          "base_uri": "https://localhost:8080/",
          "height": 35
        },
        "id": "DJMcPKX0yLpi",
        "outputId": "7bffb947-dda6-4467-cb04-d5bd6d596d9e"
      },
      "execution_count": null,
      "outputs": [
        {
          "output_type": "execute_result",
          "data": {
            "text/plain": [
              "'Nam'"
            ],
            "application/vnd.google.colaboratory.intrinsic+json": {
              "type": "string"
            }
          },
          "metadata": {},
          "execution_count": 36
        }
      ]
    },
    {
      "cell_type": "code",
      "source": [
        "Sinh_Vien['Gioi_tinh']='Nữ'"
      ],
      "metadata": {
        "id": "5_j4xJZByToq"
      },
      "execution_count": null,
      "outputs": []
    },
    {
      "cell_type": "code",
      "source": [
        "print(Sinh_Vien)"
      ],
      "metadata": {
        "colab": {
          "base_uri": "https://localhost:8080/"
        },
        "id": "iqNU6iKsyXeS",
        "outputId": "df993aaa-1f49-4d48-ea90-b80c5332a01a"
      },
      "execution_count": null,
      "outputs": [
        {
          "output_type": "stream",
          "name": "stdout",
          "text": [
            "{'Ho_ten': 'Nguyen Van A', 'Que_quan': 'Hà Nội', 'Tuoi': 19, 'MSSV': 123456, 'Gioi_tinh': 'Nữ'}\n"
          ]
        }
      ]
    },
    {
      "cell_type": "code",
      "source": [
        "Sinh_Vien['Diem_Thi']=25"
      ],
      "metadata": {
        "id": "CQ7uwkjsyePB"
      },
      "execution_count": null,
      "outputs": []
    },
    {
      "cell_type": "code",
      "source": [
        "print(Sinh_Vien)"
      ],
      "metadata": {
        "colab": {
          "base_uri": "https://localhost:8080/"
        },
        "id": "i14dgj7tylXx",
        "outputId": "df1cae3d-83a4-4345-df80-e25541f4228a"
      },
      "execution_count": null,
      "outputs": [
        {
          "output_type": "stream",
          "name": "stdout",
          "text": [
            "{'Ho_ten': 'Nguyen Van A', 'Que_quan': 'Hà Nội', 'Tuoi': 19, 'MSSV': 123456, 'Gioi_tinh': 'Nữ', 'Diem_Thi': 25}\n"
          ]
        }
      ]
    },
    {
      "cell_type": "markdown",
      "source": [
        "# Cấu trúc dữ liệu chuỗi ký tự: string (str)"
      ],
      "metadata": {
        "id": "iKujREsgyzb5"
      }
    },
    {
      "cell_type": "code",
      "source": [
        "str1='Hello World'"
      ],
      "metadata": {
        "id": "8eN5XQn_y4TK"
      },
      "execution_count": null,
      "outputs": []
    },
    {
      "cell_type": "code",
      "source": [
        "print(type(str1))"
      ],
      "metadata": {
        "colab": {
          "base_uri": "https://localhost:8080/"
        },
        "id": "h1fG41JVy-8B",
        "outputId": "138afa54-cddd-49d7-cc8b-8c93961a7c42"
      },
      "execution_count": null,
      "outputs": [
        {
          "output_type": "stream",
          "name": "stdout",
          "text": [
            "<class 'str'>\n"
          ]
        }
      ]
    },
    {
      "cell_type": "code",
      "source": [
        "str2=\"Welcome to Phenikaa University\""
      ],
      "metadata": {
        "id": "d-3vRC90zEF5"
      },
      "execution_count": null,
      "outputs": []
    },
    {
      "cell_type": "code",
      "source": [
        "print(type(str2))"
      ],
      "metadata": {
        "colab": {
          "base_uri": "https://localhost:8080/"
        },
        "id": "KggoctrTzHmx",
        "outputId": "a3efd89a-e460-42c6-a702-2c7fda3c7c70"
      },
      "execution_count": null,
      "outputs": [
        {
          "output_type": "stream",
          "name": "stdout",
          "text": [
            "<class 'str'>\n"
          ]
        }
      ]
    },
    {
      "cell_type": "markdown",
      "source": [
        "hàm cộng hai chuỗi ký tự"
      ],
      "metadata": {
        "id": "D0mli04mzNTh"
      }
    },
    {
      "cell_type": "code",
      "source": [
        "str3=str1+', '+str2\n",
        "print(str3)"
      ],
      "metadata": {
        "colab": {
          "base_uri": "https://localhost:8080/"
        },
        "id": "qy8vHf80zMjz",
        "outputId": "39eb5c87-0d75-4e7b-ad9b-5a9e78eca8dd"
      },
      "execution_count": null,
      "outputs": [
        {
          "output_type": "stream",
          "name": "stdout",
          "text": [
            "Hello World, Welcome to Phenikaa University\n"
          ]
        }
      ]
    },
    {
      "cell_type": "code",
      "source": [
        "str4=str3.upper()\n",
        "print(str4)"
      ],
      "metadata": {
        "colab": {
          "base_uri": "https://localhost:8080/"
        },
        "id": "QXFi6kzOzqNS",
        "outputId": "fed749e0-987b-4b9c-ac03-4fbf6efb5f11"
      },
      "execution_count": null,
      "outputs": [
        {
          "output_type": "stream",
          "name": "stdout",
          "text": [
            "HELLO WORLD, WELCOME TO PHENIKAA UNIVERSITY\n"
          ]
        }
      ]
    },
    {
      "cell_type": "code",
      "source": [
        "str5=str3.lower()\n",
        "print(str5)"
      ],
      "metadata": {
        "colab": {
          "base_uri": "https://localhost:8080/"
        },
        "id": "lzI1wgjEzwMS",
        "outputId": "036d656e-6f13-44cc-df83-f40189a05ec4"
      },
      "execution_count": null,
      "outputs": [
        {
          "output_type": "stream",
          "name": "stdout",
          "text": [
            "hello world, welcome to phenikaa university\n"
          ]
        }
      ]
    },
    {
      "cell_type": "code",
      "source": [
        "print(len(str3))"
      ],
      "metadata": {
        "colab": {
          "base_uri": "https://localhost:8080/"
        },
        "id": "54otxggXzbYZ",
        "outputId": "0f93c875-37df-44cd-cc8d-3176a4597c89"
      },
      "execution_count": null,
      "outputs": [
        {
          "output_type": "stream",
          "name": "stdout",
          "text": [
            "43\n"
          ]
        }
      ]
    },
    {
      "cell_type": "markdown",
      "source": [
        "Chuyển từ một chuỗi ký tự sang một số"
      ],
      "metadata": {
        "id": "LABjf5BP0WlJ"
      }
    },
    {
      "cell_type": "code",
      "source": [
        "str6= '12345678'"
      ],
      "metadata": {
        "id": "_TajoXpr0GCB"
      },
      "execution_count": null,
      "outputs": []
    },
    {
      "cell_type": "code",
      "source": [
        "str7=int(str6)+1\n",
        "print(str7)"
      ],
      "metadata": {
        "colab": {
          "base_uri": "https://localhost:8080/"
        },
        "id": "9DTOfwkI0Jps",
        "outputId": "51116e15-bef2-447c-c1cf-883974868608"
      },
      "execution_count": null,
      "outputs": [
        {
          "output_type": "stream",
          "name": "stdout",
          "text": [
            "12345679\n"
          ]
        }
      ]
    },
    {
      "cell_type": "markdown",
      "source": [
        "Chuyển một số sang một chuỗi ký tự"
      ],
      "metadata": {
        "id": "EERGhE_E0eRp"
      }
    },
    {
      "cell_type": "code",
      "source": [
        "x=1/3\n",
        "print(x)"
      ],
      "metadata": {
        "colab": {
          "base_uri": "https://localhost:8080/"
        },
        "id": "CbQdDpuJ0hb5",
        "outputId": "51b66e92-a6b4-44ae-fb84-b61ab415b9c6"
      },
      "execution_count": null,
      "outputs": [
        {
          "output_type": "stream",
          "name": "stdout",
          "text": [
            "0.3333333333333333\n"
          ]
        }
      ]
    },
    {
      "cell_type": "code",
      "source": [
        "'Gia tri cua x='+str(x)"
      ],
      "metadata": {
        "colab": {
          "base_uri": "https://localhost:8080/",
          "height": 35
        },
        "id": "Xy8qjxXI0nhr",
        "outputId": "78e25920-6728-4e64-aa82-2a7feddc8e88"
      },
      "execution_count": null,
      "outputs": [
        {
          "output_type": "execute_result",
          "data": {
            "text/plain": [
              "'Gia tri cua x=0.3333333333333333'"
            ],
            "application/vnd.google.colaboratory.intrinsic+json": {
              "type": "string"
            }
          },
          "metadata": {},
          "execution_count": 5
        }
      ]
    },
    {
      "cell_type": "markdown",
      "source": [
        "# Các câu lệnh rẽ nhánh"
      ],
      "metadata": {
        "id": "UH7hn0CUpq3r"
      }
    },
    {
      "cell_type": "markdown",
      "source": [
        "## Dạng 1"
      ],
      "metadata": {
        "id": "1aw77PuGsSoi"
      }
    },
    {
      "cell_type": "code",
      "source": [
        "if (điều kiện):\n",
        "  Thực hiện câu lệnh"
      ],
      "metadata": {
        "id": "piBHbaBrsUtS"
      },
      "execution_count": null,
      "outputs": []
    },
    {
      "cell_type": "code",
      "source": [
        "x=5\n",
        "if x>3:\n",
        "  print(x,' >3')"
      ],
      "metadata": {
        "colab": {
          "base_uri": "https://localhost:8080/"
        },
        "id": "qMsTGVS3sX9K",
        "outputId": "0b136838-1bb4-42e9-86fb-6418beaf6425"
      },
      "execution_count": null,
      "outputs": [
        {
          "output_type": "stream",
          "name": "stdout",
          "text": [
            "5  >3\n"
          ]
        }
      ]
    },
    {
      "cell_type": "markdown",
      "source": [
        "## Dạng 2"
      ],
      "metadata": {
        "id": "6fKkzUrGsoUk"
      }
    },
    {
      "cell_type": "code",
      "source": [
        "if (điều kiện):\n",
        "  thực hiện công việc A\n",
        "else:\n",
        "  thực hiện công việc B"
      ],
      "metadata": {
        "id": "e4HlNgCdsc6c"
      },
      "execution_count": null,
      "outputs": []
    },
    {
      "cell_type": "code",
      "source": [
        "x=5\n",
        "if x>3:\n",
        "  print(x,'>3')\n",
        "else:\n",
        "  print(x,'<=3')"
      ],
      "metadata": {
        "colab": {
          "base_uri": "https://localhost:8080/"
        },
        "id": "zQqSBw50sxkT",
        "outputId": "93f53b6b-afde-4855-cce6-679066172c7d"
      },
      "execution_count": null,
      "outputs": [
        {
          "output_type": "stream",
          "name": "stdout",
          "text": [
            "5 >3\n"
          ]
        }
      ]
    },
    {
      "cell_type": "markdown",
      "source": [
        "## Dạng 3"
      ],
      "metadata": {
        "id": "u5YZAQvxtDoi"
      }
    },
    {
      "cell_type": "code",
      "source": [
        "if (điều kiện 1):\n",
        "  thực hiện công việc A\n",
        "elif (điều kiện 2):\n",
        "  thực hiện công việc B\n",
        "else:\n",
        "  Thực hiện công việc C"
      ],
      "metadata": {
        "id": "5KS4gBaGtGOS"
      },
      "execution_count": null,
      "outputs": []
    },
    {
      "cell_type": "code",
      "source": [
        "x=1\n",
        "\n",
        "if x>3:\n",
        "  print(x,'>3')\n",
        "elif (x==3):\n",
        "  print(x,'=3')\n",
        "else:\n",
        "  print(x,'<3')"
      ],
      "metadata": {
        "colab": {
          "base_uri": "https://localhost:8080/"
        },
        "id": "0mEsSPbBtSmS",
        "outputId": "51521934-a033-4935-8ec7-00bfd8260cd5"
      },
      "execution_count": null,
      "outputs": [
        {
          "output_type": "stream",
          "name": "stdout",
          "text": [
            "1 <3\n"
          ]
        }
      ]
    },
    {
      "cell_type": "markdown",
      "source": [
        "# Câu lệnh vòng lặp"
      ],
      "metadata": {
        "id": "Jh0DSD2G1TBq"
      }
    },
    {
      "cell_type": "code",
      "source": [
        "print(1)\n",
        "print(2)\n",
        "print(3)\n",
        "print(4)\n",
        "print(5)\n",
        "print(6)\n",
        "print(7)\n",
        "print(8)"
      ],
      "metadata": {
        "colab": {
          "base_uri": "https://localhost:8080/"
        },
        "id": "1YTBfZqQ1VbZ",
        "outputId": "cc4a4459-f86c-4a22-bcf2-2daa859b5d2b"
      },
      "execution_count": null,
      "outputs": [
        {
          "output_type": "stream",
          "name": "stdout",
          "text": [
            "1\n",
            "2\n",
            "3\n",
            "4\n",
            "5\n",
            "6\n",
            "7\n",
            "8\n"
          ]
        }
      ]
    },
    {
      "cell_type": "code",
      "source": [
        "for i in range(1,9):\n",
        "  print(i)"
      ],
      "metadata": {
        "colab": {
          "base_uri": "https://localhost:8080/"
        },
        "id": "lpg8bwkD1bBy",
        "outputId": "08fb62e1-da10-4d7d-b538-5a58ce6a0e04"
      },
      "execution_count": null,
      "outputs": [
        {
          "output_type": "stream",
          "name": "stdout",
          "text": [
            "1\n",
            "2\n",
            "3\n",
            "4\n",
            "5\n",
            "6\n",
            "7\n",
            "8\n"
          ]
        }
      ]
    },
    {
      "cell_type": "markdown",
      "source": [
        "**Dạng 1:**"
      ],
      "metadata": {
        "id": "2xjAEK-A1zIx"
      }
    },
    {
      "cell_type": "code",
      "source": [
        "for i in range(n):\n",
        "  thực hiện công việc thứ i"
      ],
      "metadata": {
        "id": "N3iR0SQh1pNh"
      },
      "execution_count": null,
      "outputs": []
    },
    {
      "cell_type": "markdown",
      "source": [
        "$i$ sẽ nhận giá trị trong đoạn $i =0,1,2, \\dots,n-1$"
      ],
      "metadata": {
        "id": "uvsCGEt7164J"
      }
    },
    {
      "cell_type": "code",
      "source": [
        "for i in range(10):\n",
        "  print(i)"
      ],
      "metadata": {
        "colab": {
          "base_uri": "https://localhost:8080/"
        },
        "id": "uM9LNNRl2GRx",
        "outputId": "c27a134f-06d2-4b70-951b-121f47108a35"
      },
      "execution_count": null,
      "outputs": [
        {
          "output_type": "stream",
          "name": "stdout",
          "text": [
            "0\n",
            "1\n",
            "2\n",
            "3\n",
            "4\n",
            "5\n",
            "6\n",
            "7\n",
            "8\n",
            "9\n"
          ]
        }
      ]
    },
    {
      "cell_type": "markdown",
      "source": [
        "**Dạng 2:**"
      ],
      "metadata": {
        "id": "KFKPlQJG2Zui"
      }
    },
    {
      "cell_type": "code",
      "source": [
        "for i in range(n1,n2):\n",
        "  thực hiện công việc thứ i"
      ],
      "metadata": {
        "id": "GT2cSP4L2Uxx"
      },
      "execution_count": null,
      "outputs": []
    },
    {
      "cell_type": "markdown",
      "source": [
        "$i$ sẽ nhận các giá trị $i=n_1, n_1+ 1, n_1 +2 , \\dots, n_2 -1 $"
      ],
      "metadata": {
        "id": "xoETRc892h-R"
      }
    },
    {
      "cell_type": "code",
      "source": [
        "for i in range(5, 10):\n",
        "  print(i)"
      ],
      "metadata": {
        "colab": {
          "base_uri": "https://localhost:8080/"
        },
        "id": "fcNBinE72gpx",
        "outputId": "4b850247-2873-4a8f-aeca-af489699ce18"
      },
      "execution_count": null,
      "outputs": [
        {
          "output_type": "stream",
          "name": "stdout",
          "text": [
            "5\n",
            "6\n",
            "7\n",
            "8\n",
            "9\n"
          ]
        }
      ]
    },
    {
      "cell_type": "markdown",
      "source": [
        "**Dạng 3:**"
      ],
      "metadata": {
        "id": "uAFmJj6p224a"
      }
    },
    {
      "cell_type": "code",
      "source": [
        "for i in range(n1,n2,s):    #s>0\n",
        "  Thực hiện công việc thứ i"
      ],
      "metadata": {
        "id": "xWFa-Dmm24t5"
      },
      "execution_count": null,
      "outputs": []
    },
    {
      "cell_type": "markdown",
      "source": [
        "$i$ sẽ nhận các giá trị $i = n_1, n_1 + s, n_1 +2s, n_1 +3s, \\dots, n_1 +ks <n_2$"
      ],
      "metadata": {
        "id": "QgrGXpmJ2_JR"
      }
    },
    {
      "cell_type": "code",
      "source": [
        "for i in range(1,20,4):\n",
        "  print(i)"
      ],
      "metadata": {
        "colab": {
          "base_uri": "https://localhost:8080/"
        },
        "id": "sXUVew2Q22bp",
        "outputId": "ca3a3577-24a3-4c6d-882f-140c97f1c2cf"
      },
      "execution_count": null,
      "outputs": [
        {
          "output_type": "stream",
          "name": "stdout",
          "text": [
            "1\n",
            "5\n",
            "9\n",
            "13\n",
            "17\n"
          ]
        }
      ]
    },
    {
      "cell_type": "markdown",
      "source": [
        "Ví dụ:\n",
        "Tính tổng các số chẵn từ 0 đến 1500"
      ],
      "metadata": {
        "id": "Zmx_9bge3dHB"
      }
    },
    {
      "cell_type": "code",
      "source": [
        "tong=0\n",
        "for i in range(0,1501,2):\n",
        "  tong=tong+i\n",
        "print(tong)"
      ],
      "metadata": {
        "colab": {
          "base_uri": "https://localhost:8080/"
        },
        "id": "fcGsTJUr2xhI",
        "outputId": "68f4d5c3-0a47-4204-f2dd-047a93e14648"
      },
      "execution_count": null,
      "outputs": [
        {
          "output_type": "stream",
          "name": "stdout",
          "text": [
            "563250\n"
          ]
        }
      ]
    },
    {
      "cell_type": "markdown",
      "source": [
        "Trường hợp $s<0$"
      ],
      "metadata": {
        "id": "xFVn3L055m2a"
      }
    },
    {
      "cell_type": "code",
      "source": [
        "for i in range(n1,n2,s)"
      ],
      "metadata": {
        "id": "GUFvkYwk55Ya"
      },
      "execution_count": null,
      "outputs": []
    },
    {
      "cell_type": "markdown",
      "source": [
        "$i$ nhận các giá trị $i = n_1, n_1 +s, n_1 +2s, \\dots,n_1 + ks >n_2$"
      ],
      "metadata": {
        "id": "Nan3C7jN58W5"
      }
    },
    {
      "cell_type": "markdown",
      "source": [
        "Ví dụ:"
      ],
      "metadata": {
        "id": "hPbTvXkJ5qzK"
      }
    },
    {
      "cell_type": "code",
      "source": [
        "for i in range(10,1,-1):\n",
        "  print(i)"
      ],
      "metadata": {
        "colab": {
          "base_uri": "https://localhost:8080/"
        },
        "id": "JSB4UZxr3tnB",
        "outputId": "4496c09a-bf8f-4160-e15e-5d0f4ebfdfab"
      },
      "execution_count": null,
      "outputs": [
        {
          "output_type": "stream",
          "name": "stdout",
          "text": [
            "10\n",
            "9\n",
            "8\n",
            "7\n",
            "6\n",
            "5\n",
            "4\n",
            "3\n",
            "2\n"
          ]
        }
      ]
    },
    {
      "cell_type": "markdown",
      "source": [
        "# Làm tròn số thực"
      ],
      "metadata": {
        "id": "Fmy_ysu16YRS"
      }
    },
    {
      "cell_type": "code",
      "source": [
        "x=1/3\n",
        "print(x)"
      ],
      "metadata": {
        "colab": {
          "base_uri": "https://localhost:8080/"
        },
        "id": "NqFWfMUM5yVJ",
        "outputId": "676fd161-73df-4ebd-a5cc-c628a24a2716"
      },
      "execution_count": null,
      "outputs": [
        {
          "output_type": "stream",
          "name": "stdout",
          "text": [
            "0.3333333333333333\n"
          ]
        }
      ]
    },
    {
      "cell_type": "markdown",
      "source": [
        "In ra màn hình số đã được làm tròn thành 3 chữ số thập phân"
      ],
      "metadata": {
        "id": "2Br7ZY4v6h66"
      }
    },
    {
      "cell_type": "code",
      "source": [
        "x=1/3\n",
        "print('%0.3f'%x)"
      ],
      "metadata": {
        "colab": {
          "base_uri": "https://localhost:8080/"
        },
        "id": "BYeNrGje6ceK",
        "outputId": "510269a5-5e5f-4dc9-ae27-2c0122378f85"
      },
      "execution_count": null,
      "outputs": [
        {
          "output_type": "stream",
          "name": "stdout",
          "text": [
            "0.333\n"
          ]
        }
      ]
    },
    {
      "cell_type": "markdown",
      "source": [
        "# Nhập từ bàn phím"
      ],
      "metadata": {
        "id": "ccV-yaeZ6zkh"
      }
    },
    {
      "cell_type": "code",
      "source": [
        "x=input()"
      ],
      "metadata": {
        "colab": {
          "base_uri": "https://localhost:8080/"
        },
        "id": "dYPRoFvS6sk5",
        "outputId": "55291aef-82db-4ee5-931b-852420addfcb"
      },
      "execution_count": null,
      "outputs": [
        {
          "name": "stdout",
          "output_type": "stream",
          "text": [
            "124356\n"
          ]
        }
      ]
    },
    {
      "cell_type": "code",
      "source": [
        "type(x)"
      ],
      "metadata": {
        "colab": {
          "base_uri": "https://localhost:8080/"
        },
        "id": "LEoEJ5Np67-J",
        "outputId": "d2634fdd-9362-4e0d-a7c9-fb8aa179c1bf"
      },
      "execution_count": null,
      "outputs": [
        {
          "output_type": "execute_result",
          "data": {
            "text/plain": [
              "str"
            ]
          },
          "metadata": {},
          "execution_count": 23
        }
      ]
    },
    {
      "cell_type": "code",
      "source": [
        "x=int(x)"
      ],
      "metadata": {
        "id": "BJCzaNIr7KRi"
      },
      "execution_count": null,
      "outputs": []
    },
    {
      "cell_type": "code",
      "source": [
        "x+1"
      ],
      "metadata": {
        "colab": {
          "base_uri": "https://localhost:8080/"
        },
        "id": "ZuLiH4R16-nO",
        "outputId": "b9813add-a0f5-4e44-a65b-b4a5658e3c01"
      },
      "execution_count": null,
      "outputs": [
        {
          "output_type": "execute_result",
          "data": {
            "text/plain": [
              "124357"
            ]
          },
          "metadata": {},
          "execution_count": 26
        }
      ]
    },
    {
      "cell_type": "code",
      "source": [],
      "metadata": {
        "id": "hRp0o4HE7DDq"
      },
      "execution_count": null,
      "outputs": []
    },
    {
      "cell_type": "markdown",
      "source": [
        "**Bài E**"
      ],
      "metadata": {
        "id": "aMHVEHcJ_gC7"
      }
    },
    {
      "cell_type": "code",
      "source": [
        "n=int(input())\n",
        "print(n)"
      ],
      "metadata": {
        "colab": {
          "base_uri": "https://localhost:8080/"
        },
        "id": "izPfPVPS_hBc",
        "outputId": "1222636d-fc4d-4ae8-acdc-a14eb7ffe35e"
      },
      "execution_count": null,
      "outputs": [
        {
          "output_type": "stream",
          "name": "stdout",
          "text": [
            "686\n",
            "686\n"
          ]
        }
      ]
    },
    {
      "cell_type": "markdown",
      "source": [
        "Bài **F**"
      ],
      "metadata": {
        "id": "wNeFp3oOANgp"
      }
    },
    {
      "cell_type": "code",
      "source": [
        "n=int(input())\n",
        "m=int(input())\n"
      ],
      "metadata": {
        "colab": {
          "base_uri": "https://localhost:8080/"
        },
        "id": "mWJHEwodAEfM",
        "outputId": "cbb6a1f8-eb1a-47aa-b5b6-b2244f034289"
      },
      "execution_count": null,
      "outputs": [
        {
          "name": "stdout",
          "output_type": "stream",
          "text": [
            "8\n",
            "6\n"
          ]
        }
      ]
    },
    {
      "cell_type": "code",
      "source": [],
      "metadata": {
        "id": "3gnQoQRyAW7Y"
      },
      "execution_count": null,
      "outputs": []
    }
  ]
}