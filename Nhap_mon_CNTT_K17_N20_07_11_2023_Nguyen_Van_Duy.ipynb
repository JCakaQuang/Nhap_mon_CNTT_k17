{
  "nbformat": 4,
  "nbformat_minor": 0,
  "metadata": {
    "colab": {
      "provenance": []
    },
    "kernelspec": {
      "name": "python3",
      "display_name": "Python 3"
    },
    "language_info": {
      "name": "python"
    }
  },
  "cells": [
    {
      "cell_type": "markdown",
      "source": [
        "# Vòng lặp while"
      ],
      "metadata": {
        "id": "GjRDwyJl5kDY"
      }
    },
    {
      "cell_type": "markdown",
      "source": [
        "Vòng lặp for là vòng lặp xác định số bước lặp một cách dễ dàng"
      ],
      "metadata": {
        "id": "ZPzG3Rp157EI"
      }
    },
    {
      "cell_type": "markdown",
      "source": [
        "Ví dụ"
      ],
      "metadata": {
        "id": "TNJXg-Ct6FX_"
      }
    },
    {
      "cell_type": "code",
      "source": [
        "for i in range(15):\n",
        "  print(i)"
      ],
      "metadata": {
        "colab": {
          "base_uri": "https://localhost:8080/"
        },
        "id": "NlfhVH2A6D3X",
        "outputId": "5ce7a022-31f6-4ba3-ea70-169aa8efee3e"
      },
      "execution_count": null,
      "outputs": [
        {
          "output_type": "stream",
          "name": "stdout",
          "text": [
            "0\n",
            "1\n",
            "2\n",
            "3\n",
            "4\n",
            "5\n",
            "6\n",
            "7\n",
            "8\n",
            "9\n",
            "10\n",
            "11\n",
            "12\n",
            "13\n",
            "14\n"
          ]
        }
      ]
    },
    {
      "cell_type": "markdown",
      "source": [
        "Ví dụ:\n",
        "\n",
        "Tìm số tự nhiên $n$ lớn nhất thỏa mãn: $n^4 + n^3 + n^2 -1 <1000$"
      ],
      "metadata": {
        "id": "OPpp4GRk6Qtg"
      }
    },
    {
      "cell_type": "code",
      "source": [
        "n=0\n",
        "while (n**4 + n**3 +n**2 -1) <1000:\n",
        "  n=n+1\n",
        "print(n-1)"
      ],
      "metadata": {
        "colab": {
          "base_uri": "https://localhost:8080/"
        },
        "id": "IOi-IefD6LSB",
        "outputId": "db721685-541f-47ab-f1b6-74f8982e94a4"
      },
      "execution_count": null,
      "outputs": [
        {
          "output_type": "stream",
          "name": "stdout",
          "text": [
            "5\n"
          ]
        }
      ]
    },
    {
      "cell_type": "code",
      "source": [
        "6**4 + 6**3 +6**2-1"
      ],
      "metadata": {
        "colab": {
          "base_uri": "https://localhost:8080/"
        },
        "id": "893XRXKT7Ug4",
        "outputId": "34bf2a06-8203-4417-e566-b078cc43a09d"
      },
      "execution_count": null,
      "outputs": [
        {
          "output_type": "execute_result",
          "data": {
            "text/plain": [
              "1547"
            ]
          },
          "metadata": {},
          "execution_count": 2
        }
      ]
    },
    {
      "cell_type": "code",
      "source": [
        "5**4 + 5**3 +5**2-1"
      ],
      "metadata": {
        "colab": {
          "base_uri": "https://localhost:8080/"
        },
        "id": "R3_mGiN77XmJ",
        "outputId": "2693b83f-89b7-4331-bbd5-79a428594b78"
      },
      "execution_count": null,
      "outputs": [
        {
          "output_type": "execute_result",
          "data": {
            "text/plain": [
              "774"
            ]
          },
          "metadata": {},
          "execution_count": 3
        }
      ]
    },
    {
      "cell_type": "markdown",
      "source": [
        "Cấu trúc câu lệnh vòng lặp while: Vòng lặp có điều kiện"
      ],
      "metadata": {
        "id": "2IeyJnh67nnZ"
      }
    },
    {
      "cell_type": "code",
      "source": [
        "while điều kiện:\n",
        "  thực hiện công việc A"
      ],
      "metadata": {
        "id": "TL0ddI7C7b9Z"
      },
      "execution_count": null,
      "outputs": []
    },
    {
      "cell_type": "markdown",
      "source": [
        "Ví dụ:"
      ],
      "metadata": {
        "id": "ZL2gmt3Y7w2w"
      }
    },
    {
      "cell_type": "code",
      "source": [
        "i=0\n",
        "while i<11:\n",
        "  print(i)\n",
        "  i=i+1\n"
      ],
      "metadata": {
        "colab": {
          "base_uri": "https://localhost:8080/"
        },
        "id": "8oCF2eGi7x7x",
        "outputId": "b391f31d-1e0f-4ab7-e636-478088315ce2"
      },
      "execution_count": null,
      "outputs": [
        {
          "output_type": "stream",
          "name": "stdout",
          "text": [
            "0\n",
            "1\n",
            "2\n",
            "3\n",
            "4\n",
            "5\n",
            "6\n",
            "7\n",
            "8\n",
            "9\n",
            "10\n"
          ]
        }
      ]
    },
    {
      "cell_type": "markdown",
      "source": [
        "# Hàm - function"
      ],
      "metadata": {
        "id": "zvRT22TnFL61"
      }
    },
    {
      "cell_type": "code",
      "source": [
        "def ten_ham(bien_1,bien_2,...,bien_n):\n",
        "  cac_cau_lenh\n",
        "  return gia_tri_ham"
      ],
      "metadata": {
        "id": "Dvjg6CHD8BXp"
      },
      "execution_count": null,
      "outputs": []
    },
    {
      "cell_type": "markdown",
      "source": [],
      "metadata": {
        "id": "7zl_JQ1kFcgb"
      }
    },
    {
      "cell_type": "markdown",
      "source": [
        "Ví dụ:\n",
        "Hàm số $f(x)= \\sqrt{x^2 +1}$"
      ],
      "metadata": {
        "id": "Hj0w_-RKFcmd"
      }
    },
    {
      "cell_type": "code",
      "source": [
        "import math\n",
        "def f(x):\n",
        "  fn=math.sqrt(x**2+1)\n",
        "  return fn"
      ],
      "metadata": {
        "id": "meHe0mJiFb_M"
      },
      "execution_count": null,
      "outputs": []
    },
    {
      "cell_type": "code",
      "source": [
        "print(f(1))"
      ],
      "metadata": {
        "colab": {
          "base_uri": "https://localhost:8080/"
        },
        "id": "lvK6Qc9nFzfc",
        "outputId": "56349b5b-8c78-4fb5-9a37-ad5b8a0327bb"
      },
      "execution_count": null,
      "outputs": [
        {
          "output_type": "stream",
          "name": "stdout",
          "text": [
            "1.4142135623730951\n"
          ]
        }
      ]
    },
    {
      "cell_type": "code",
      "source": [
        "math.sqrt(2)"
      ],
      "metadata": {
        "colab": {
          "base_uri": "https://localhost:8080/"
        },
        "id": "zsUPK6NhF1Kc",
        "outputId": "9d78921d-72be-4226-e56a-08d037c6e994"
      },
      "execution_count": null,
      "outputs": [
        {
          "output_type": "execute_result",
          "data": {
            "text/plain": [
              "1.4142135623730951"
            ]
          },
          "metadata": {},
          "execution_count": 8
        }
      ]
    },
    {
      "cell_type": "code",
      "source": [
        "print(f(3))"
      ],
      "metadata": {
        "colab": {
          "base_uri": "https://localhost:8080/"
        },
        "id": "STAnw3uBF6w8",
        "outputId": "f79e682e-4931-496d-ec6b-47944bf521f9"
      },
      "execution_count": null,
      "outputs": [
        {
          "output_type": "stream",
          "name": "stdout",
          "text": [
            "3.1622776601683795\n"
          ]
        }
      ]
    },
    {
      "cell_type": "markdown",
      "source": [
        "Các biến $x$ hay $fn$ trong hàm trên được gọi là biến địa phương. Nghĩa là sau khi gọi hàm thì các biến không còn lưu lại giá trị (bộ nhớ tạm cho các biến giải phóng)."
      ],
      "metadata": {
        "id": "-zCU6h9nGVJF"
      }
    },
    {
      "cell_type": "code",
      "source": [
        "print(x)"
      ],
      "metadata": {
        "colab": {
          "base_uri": "https://localhost:8080/",
          "height": 176
        },
        "id": "cgkQOIEOF9Ks",
        "outputId": "1af57788-852f-46a9-e1d0-3df51c22c6cd"
      },
      "execution_count": null,
      "outputs": [
        {
          "output_type": "error",
          "ename": "NameError",
          "evalue": "ignored",
          "traceback": [
            "\u001b[0;31m---------------------------------------------------------------------------\u001b[0m",
            "\u001b[0;31mNameError\u001b[0m                                 Traceback (most recent call last)",
            "\u001b[0;32m<ipython-input-10-fc17d851ef81>\u001b[0m in \u001b[0;36m<cell line: 1>\u001b[0;34m()\u001b[0m\n\u001b[0;32m----> 1\u001b[0;31m \u001b[0mprint\u001b[0m\u001b[0;34m(\u001b[0m\u001b[0mx\u001b[0m\u001b[0;34m)\u001b[0m\u001b[0;34m\u001b[0m\u001b[0;34m\u001b[0m\u001b[0m\n\u001b[0m",
            "\u001b[0;31mNameError\u001b[0m: name 'x' is not defined"
          ]
        }
      ]
    },
    {
      "cell_type": "code",
      "source": [
        "print(fn)"
      ],
      "metadata": {
        "colab": {
          "base_uri": "https://localhost:8080/",
          "height": 176
        },
        "id": "QiU6cAvJGNPM",
        "outputId": "4a19432d-a12c-4883-8788-57c0975b6bb2"
      },
      "execution_count": null,
      "outputs": [
        {
          "output_type": "error",
          "ename": "NameError",
          "evalue": "ignored",
          "traceback": [
            "\u001b[0;31m---------------------------------------------------------------------------\u001b[0m",
            "\u001b[0;31mNameError\u001b[0m                                 Traceback (most recent call last)",
            "\u001b[0;32m<ipython-input-11-0c8baced70cf>\u001b[0m in \u001b[0;36m<cell line: 1>\u001b[0;34m()\u001b[0m\n\u001b[0;32m----> 1\u001b[0;31m \u001b[0mprint\u001b[0m\u001b[0;34m(\u001b[0m\u001b[0mfn\u001b[0m\u001b[0;34m)\u001b[0m\u001b[0;34m\u001b[0m\u001b[0;34m\u001b[0m\u001b[0m\n\u001b[0m",
            "\u001b[0;31mNameError\u001b[0m: name 'fn' is not defined"
          ]
        }
      ]
    },
    {
      "cell_type": "markdown",
      "source": [
        "Biến toàn cục:\n",
        "\n",
        "Bộ nhớ của biến sẽ vẫn còn tồn tại sau khi gọi hàm"
      ],
      "metadata": {
        "id": "qWGgfnNsGy3l"
      }
    },
    {
      "cell_type": "code",
      "source": [
        "def f(x):\n",
        "  global fn\n",
        "  fn=math.sqrt(x**2+1)\n",
        "  return fn"
      ],
      "metadata": {
        "id": "qJi0XVNhGTKN"
      },
      "execution_count": null,
      "outputs": []
    },
    {
      "cell_type": "code",
      "source": [
        "print(f(1))"
      ],
      "metadata": {
        "colab": {
          "base_uri": "https://localhost:8080/"
        },
        "id": "lncYixFqG5MF",
        "outputId": "f37d0d56-6bde-4d0e-fffc-6a9ec9b46400"
      },
      "execution_count": null,
      "outputs": [
        {
          "output_type": "stream",
          "name": "stdout",
          "text": [
            "1.4142135623730951\n"
          ]
        }
      ]
    },
    {
      "cell_type": "code",
      "source": [
        "print(fn)"
      ],
      "metadata": {
        "colab": {
          "base_uri": "https://localhost:8080/"
        },
        "id": "qjZ42XTmG6mM",
        "outputId": "e625c5d9-4ca3-4691-9466-28f5d2102881"
      },
      "execution_count": null,
      "outputs": [
        {
          "output_type": "stream",
          "name": "stdout",
          "text": [
            "1.4142135623730951\n"
          ]
        }
      ]
    },
    {
      "cell_type": "code",
      "source": [
        "print(f(2))"
      ],
      "metadata": {
        "colab": {
          "base_uri": "https://localhost:8080/"
        },
        "id": "5zY2-ROEG71s",
        "outputId": "5dc2130b-4784-43df-a6f0-d4a32979710e"
      },
      "execution_count": null,
      "outputs": [
        {
          "output_type": "stream",
          "name": "stdout",
          "text": [
            "2.23606797749979\n"
          ]
        }
      ]
    },
    {
      "cell_type": "code",
      "source": [
        "print(fn)\n"
      ],
      "metadata": {
        "colab": {
          "base_uri": "https://localhost:8080/"
        },
        "id": "0ee4UGzCHN7d",
        "outputId": "cb7d7f64-aebe-4097-b2e1-7b3282aa98a1"
      },
      "execution_count": null,
      "outputs": [
        {
          "output_type": "stream",
          "name": "stdout",
          "text": [
            "2.23606797749979\n"
          ]
        }
      ]
    },
    {
      "cell_type": "markdown",
      "source": [
        "## Tính đệ quy của hàm"
      ],
      "metadata": {
        "id": "fwtkaW1AHU39"
      }
    },
    {
      "cell_type": "markdown",
      "source": [
        "Ví dụ:\n",
        "Hàm tính giai thừa $f(n)=n!$"
      ],
      "metadata": {
        "id": "_Jin62KDHlQ9"
      }
    },
    {
      "cell_type": "markdown",
      "source": [
        "$n!= 1\\times 2 \\times 3 \\times \\dots \\times (n-1)\\times n = (n-1)!\\times n$"
      ],
      "metadata": {
        "id": "j731wTg-Hsb2"
      }
    },
    {
      "cell_type": "markdown",
      "source": [
        "Viết hàm theo cách viết đệ quy"
      ],
      "metadata": {
        "id": "30aL-BhBIWwW"
      }
    },
    {
      "cell_type": "code",
      "source": [
        "def giai_thua(n):\n",
        "  if n==0:\n",
        "    return 1\n",
        "  else:\n",
        "    return giai_thua(n-1)*n"
      ],
      "metadata": {
        "id": "8xDdlsFRHPQd"
      },
      "execution_count": null,
      "outputs": []
    },
    {
      "cell_type": "code",
      "source": [
        "print(giai_thua(3))"
      ],
      "metadata": {
        "colab": {
          "base_uri": "https://localhost:8080/"
        },
        "id": "0FAfc59UIc6G",
        "outputId": "41808584-d8c5-4466-9e10-5e3313415e41"
      },
      "execution_count": null,
      "outputs": [
        {
          "output_type": "stream",
          "name": "stdout",
          "text": [
            "6\n"
          ]
        }
      ]
    },
    {
      "cell_type": "code",
      "source": [
        "print(giai_thua(5))"
      ],
      "metadata": {
        "id": "nIu_4pP9Igdt",
        "outputId": "fbf2d6fb-d9ae-4cdf-b738-97ecc2bd12bd",
        "colab": {
          "base_uri": "https://localhost:8080/"
        }
      },
      "execution_count": null,
      "outputs": [
        {
          "output_type": "stream",
          "name": "stdout",
          "text": [
            "120\n"
          ]
        }
      ]
    },
    {
      "cell_type": "code",
      "source": [],
      "metadata": {
        "id": "hdy9o6pvIkTd"
      },
      "execution_count": null,
      "outputs": []
    }
  ]
}