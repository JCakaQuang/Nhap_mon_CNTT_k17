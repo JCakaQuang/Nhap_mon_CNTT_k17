{
  "nbformat": 4,
  "nbformat_minor": 0,
  "metadata": {
    "colab": {
      "provenance": []
    },
    "kernelspec": {
      "name": "python3",
      "display_name": "Python 3"
    },
    "language_info": {
      "name": "python"
    }
  },
  "cells": [
    {
      "cell_type": "markdown",
      "source": [
        "# Xuất nhập mảng 2 chiều"
      ],
      "metadata": {
        "id": "0b16DspCILFk"
      }
    },
    {
      "cell_type": "code",
      "source": [
        "A=[[1,2,3],\n",
        "   [4,5,6]]"
      ],
      "metadata": {
        "id": "s2BxxTjwIsVj"
      },
      "execution_count": null,
      "outputs": []
    },
    {
      "cell_type": "code",
      "source": [
        "print(A)"
      ],
      "metadata": {
        "colab": {
          "base_uri": "https://localhost:8080/"
        },
        "id": "TrLLH2U6I4_6",
        "outputId": "6f288ec0-d653-4e34-ddeb-a37b88f92264"
      },
      "execution_count": null,
      "outputs": [
        {
          "output_type": "stream",
          "name": "stdout",
          "text": [
            "[[1, 2, 3], [4, 5, 6]]\n"
          ]
        }
      ]
    },
    {
      "cell_type": "code",
      "source": [
        "A[0][2]"
      ],
      "metadata": {
        "colab": {
          "base_uri": "https://localhost:8080/"
        },
        "id": "lzdH2U2yJEUj",
        "outputId": "f75aec90-41a3-42f6-aab6-659217ee67e0"
      },
      "execution_count": null,
      "outputs": [
        {
          "output_type": "execute_result",
          "data": {
            "text/plain": [
              "3"
            ]
          },
          "metadata": {},
          "execution_count": 4
        }
      ]
    },
    {
      "cell_type": "markdown",
      "source": [
        "A[i][j] tương ứng với phần tử hàng $i$ và cột $j$ của ma trận."
      ],
      "metadata": {
        "id": "_hV4ZXfcJR0r"
      }
    },
    {
      "cell_type": "markdown",
      "source": [
        "Nhập từ bàn phím mảng hai chiều"
      ],
      "metadata": {
        "id": "j9dt53yLJcSj"
      }
    },
    {
      "cell_type": "code",
      "source": [
        "A=[]\n",
        "m,n=map(int,input().split())\n",
        "for i in range(m):\n",
        "  hang_i=list(map(int,input().split()))\n",
        "  A.append(hang_i)"
      ],
      "metadata": {
        "colab": {
          "base_uri": "https://localhost:8080/"
        },
        "id": "CaDsYonsJbDD",
        "outputId": "02b76eaa-4dae-4fb6-c33e-d82f48e5d766"
      },
      "execution_count": null,
      "outputs": [
        {
          "name": "stdout",
          "output_type": "stream",
          "text": [
            "3 2\n",
            "1 2\n",
            "3 4\n",
            "5 6\n"
          ]
        }
      ]
    },
    {
      "cell_type": "code",
      "source": [
        "print(A)"
      ],
      "metadata": {
        "colab": {
          "base_uri": "https://localhost:8080/"
        },
        "id": "MhQeh-d9JwTb",
        "outputId": "b62d9f6c-f9a2-45bf-b903-36e4acc62302"
      },
      "execution_count": null,
      "outputs": [
        {
          "output_type": "stream",
          "name": "stdout",
          "text": [
            "[[1, 2], [3, 4], [5, 6]]\n"
          ]
        }
      ]
    },
    {
      "cell_type": "markdown",
      "source": [
        "In dạng ma trận"
      ],
      "metadata": {
        "id": "LlfvWL09KXXr"
      }
    },
    {
      "cell_type": "code",
      "source": [
        "for i in range(m):\n",
        "  for j in range(n):\n",
        "    if j!=n-1:\n",
        "      print(A[i][j], end=' ')\n",
        "    else:\n",
        "      print(A[i][j])"
      ],
      "metadata": {
        "colab": {
          "base_uri": "https://localhost:8080/"
        },
        "id": "9L6sU9Z3KY-q",
        "outputId": "cb9b9384-0bf9-4372-b33d-2908913be8f9"
      },
      "execution_count": null,
      "outputs": [
        {
          "output_type": "stream",
          "name": "stdout",
          "text": [
            "1 2\n",
            "3 4\n",
            "5 6\n"
          ]
        }
      ]
    },
    {
      "cell_type": "markdown",
      "source": [
        "Chuyển thành hàm in ma trận"
      ],
      "metadata": {
        "id": "myYYuBb-K0WD"
      }
    },
    {
      "cell_type": "code",
      "source": [
        "def inmatran(A):\n",
        "  m=len(A)\n",
        "  n=len(A[0])\n",
        "  for i in range(m):\n",
        "    for j in range(n):\n",
        "      if j!=n-1:\n",
        "        print(A[i][j], end=' ')\n",
        "      else:\n",
        "        print(A[i][j])\n"
      ],
      "metadata": {
        "id": "AniTnH03K2uS"
      },
      "execution_count": null,
      "outputs": []
    },
    {
      "cell_type": "code",
      "source": [
        "inmatran(A)"
      ],
      "metadata": {
        "id": "rrIqldm7LGgq",
        "outputId": "2de2ffe5-5323-413a-a852-0acbff70012a",
        "colab": {
          "base_uri": "https://localhost:8080/"
        }
      },
      "execution_count": null,
      "outputs": [
        {
          "output_type": "stream",
          "name": "stdout",
          "text": [
            "1 2\n",
            "3 4\n",
            "5 6\n"
          ]
        }
      ]
    },
    {
      "cell_type": "markdown",
      "source": [],
      "metadata": {
        "id": "dFKMY25DIOAz"
      }
    }
  ]
}