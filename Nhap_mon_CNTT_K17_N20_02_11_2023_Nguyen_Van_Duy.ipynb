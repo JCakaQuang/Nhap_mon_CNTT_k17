{
  "nbformat": 4,
  "nbformat_minor": 0,
  "metadata": {
    "colab": {
      "provenance": []
    },
    "kernelspec": {
      "name": "python3",
      "display_name": "Python 3"
    },
    "language_info": {
      "name": "python"
    }
  },
  "cells": [
    {
      "cell_type": "markdown",
      "source": [
        "Câu lệnh nhập 3 số nguyên $a,b,c$ trên một hàng"
      ],
      "metadata": {
        "id": "_E9hE8ZbG2n_"
      }
    },
    {
      "cell_type": "code",
      "execution_count": null,
      "metadata": {
        "colab": {
          "base_uri": "https://localhost:8080/"
        },
        "id": "FeqAVe9hGu82",
        "outputId": "3091efe9-687e-46b9-f632-0e7ce58d459e"
      },
      "outputs": [
        {
          "name": "stdout",
          "output_type": "stream",
          "text": [
            "1 2 3\n"
          ]
        }
      ],
      "source": [
        "a,b,c=map(int,input().split())"
      ]
    },
    {
      "cell_type": "code",
      "source": [
        "print(a)"
      ],
      "metadata": {
        "colab": {
          "base_uri": "https://localhost:8080/"
        },
        "id": "RdPcE6tlHLVO",
        "outputId": "1914b5e1-e399-45be-afb6-22470ec4aa2b"
      },
      "execution_count": null,
      "outputs": [
        {
          "output_type": "stream",
          "name": "stdout",
          "text": [
            "1\n"
          ]
        }
      ]
    },
    {
      "cell_type": "markdown",
      "source": [
        "Câu lệnh nhập 3 số thực $x,y,z$ trên một hàng"
      ],
      "metadata": {
        "id": "6ja__oh_G8he"
      }
    },
    {
      "cell_type": "code",
      "source": [
        "x,y,z=map(float,input().split())"
      ],
      "metadata": {
        "colab": {
          "base_uri": "https://localhost:8080/"
        },
        "id": "aYZSHsNhHAGO",
        "outputId": "b0846b13-7116-4be1-ece0-7e9e88b84be6"
      },
      "execution_count": null,
      "outputs": [
        {
          "name": "stdout",
          "output_type": "stream",
          "text": [
            "1.2 1.3 1.5\n"
          ]
        }
      ]
    },
    {
      "cell_type": "code",
      "source": [
        "print(x)"
      ],
      "metadata": {
        "colab": {
          "base_uri": "https://localhost:8080/"
        },
        "id": "wpYpD0EcHPx2",
        "outputId": "6845958b-9f7d-4ed1-a189-7ba0829d6b33"
      },
      "execution_count": null,
      "outputs": [
        {
          "output_type": "stream",
          "name": "stdout",
          "text": [
            "1.2\n"
          ]
        }
      ]
    },
    {
      "cell_type": "markdown",
      "source": [
        "# Câu lệnh vòng lặp"
      ],
      "metadata": {
        "id": "wdesXe4HJqjh"
      }
    },
    {
      "cell_type": "code",
      "source": [
        "print(0)\n",
        "print(1)\n",
        "print(2)\n",
        "print(3)\n",
        "print(4)\n",
        "print(5)\n",
        "print(6)\n",
        "print(7)\n",
        "print(8)\n",
        "print(9)"
      ],
      "metadata": {
        "colab": {
          "base_uri": "https://localhost:8080/"
        },
        "id": "kxMvkrBCLnZq",
        "outputId": "b77fead6-985b-40c4-d824-38613518182e"
      },
      "execution_count": null,
      "outputs": [
        {
          "output_type": "stream",
          "name": "stdout",
          "text": [
            "0\n",
            "1\n",
            "2\n",
            "3\n",
            "4\n",
            "5\n",
            "6\n",
            "7\n",
            "8\n",
            "9\n"
          ]
        }
      ]
    },
    {
      "cell_type": "markdown",
      "source": [
        "Thay thế công việc gỗ 10 câu lệnh print lặp lại thi ta có thể sử dụng câu lệnh vòng lặp"
      ],
      "metadata": {
        "id": "k5c1Q4oDMF6p"
      }
    },
    {
      "cell_type": "markdown",
      "source": [
        "Ví dụ"
      ],
      "metadata": {
        "id": "IbkhHsdPMOhh"
      }
    },
    {
      "cell_type": "code",
      "source": [
        "for i in range(10):\n",
        "  print(i)"
      ],
      "metadata": {
        "colab": {
          "base_uri": "https://localhost:8080/"
        },
        "id": "d0hYLI_kLz6p",
        "outputId": "04bf39e6-5a4a-45d0-8e25-71f1fd25cf31"
      },
      "execution_count": null,
      "outputs": [
        {
          "output_type": "stream",
          "name": "stdout",
          "text": [
            "0\n",
            "1\n",
            "2\n",
            "3\n",
            "4\n",
            "5\n",
            "6\n",
            "7\n",
            "8\n",
            "9\n"
          ]
        }
      ]
    },
    {
      "cell_type": "markdown",
      "source": [
        "**Dạng 1**"
      ],
      "metadata": {
        "id": "3XLZ2MpHMioC"
      }
    },
    {
      "cell_type": "code",
      "source": [
        "for i in range(n):\n",
        "  thực hiện công việc thứ i+1"
      ],
      "metadata": {
        "id": "9x7BdATFMS5q"
      },
      "execution_count": null,
      "outputs": []
    },
    {
      "cell_type": "markdown",
      "source": [
        "$i$ là số nguyên và  nhận các giá trị: $0, 1, 2, \\dots, n-1$"
      ],
      "metadata": {
        "id": "NzkRJHeyMr9B"
      }
    },
    {
      "cell_type": "code",
      "source": [
        "n=10\n",
        "for i in range(n):\n",
        "  print(i)"
      ],
      "metadata": {
        "colab": {
          "base_uri": "https://localhost:8080/"
        },
        "id": "LcoHwOUWM2Bi",
        "outputId": "5788bfe4-a231-437d-e341-f007f5cb02c7"
      },
      "execution_count": null,
      "outputs": [
        {
          "output_type": "stream",
          "name": "stdout",
          "text": [
            "0\n",
            "1\n",
            "2\n",
            "3\n",
            "4\n",
            "5\n",
            "6\n",
            "7\n",
            "8\n",
            "9\n"
          ]
        }
      ]
    },
    {
      "cell_type": "markdown",
      "source": [
        "**Dạng 2**"
      ],
      "metadata": {
        "id": "W7AdM2olNHgZ"
      }
    },
    {
      "cell_type": "code",
      "source": [
        "for i in range(n1,n2):\n",
        "  thực hiện công việc thứ i-n1+1"
      ],
      "metadata": {
        "id": "sjOI6hp-M8xC"
      },
      "execution_count": null,
      "outputs": []
    },
    {
      "cell_type": "markdown",
      "source": [
        "$i$ là số nguyên nhận các giá trị: $n_1, n_1 + 1, n_1 +2, \\dots, n_2 - 1$"
      ],
      "metadata": {
        "id": "HRsmsP4QNPtB"
      }
    },
    {
      "cell_type": "code",
      "source": [
        "n1=10\n",
        "n2=20\n",
        "for i in range(n1,n2):\n",
        "  print(i)"
      ],
      "metadata": {
        "colab": {
          "base_uri": "https://localhost:8080/"
        },
        "id": "zLMg9pnENYHi",
        "outputId": "b7338c78-c618-498a-f6a8-f19244daa081"
      },
      "execution_count": null,
      "outputs": [
        {
          "output_type": "stream",
          "name": "stdout",
          "text": [
            "10\n",
            "11\n",
            "12\n",
            "13\n",
            "14\n",
            "15\n",
            "16\n",
            "17\n",
            "18\n",
            "19\n"
          ]
        }
      ]
    },
    {
      "cell_type": "markdown",
      "source": [
        "**Dạng 3**"
      ],
      "metadata": {
        "id": "zh2N3T4PNmHx"
      }
    },
    {
      "cell_type": "code",
      "source": [
        "for i in range(n1,n2,s):\n",
        "  thực hiện công việc thứ (i-n_1)/s + 1"
      ],
      "metadata": {
        "id": "CFvZvfeBNgua"
      },
      "execution_count": null,
      "outputs": []
    },
    {
      "cell_type": "markdown",
      "source": [
        "Khi $s>0$,\n",
        "$i$ là số nguyên nhận các giá trị: $n_1, n_1 + s, n_1 + 2s, \\dots, n_1 + ks<n_2$ với $k$ là số nguyên dương"
      ],
      "metadata": {
        "id": "mmg1u6nDNxva"
      }
    },
    {
      "cell_type": "code",
      "source": [
        "for i in range(5, 20,3):\n",
        "  print(i)"
      ],
      "metadata": {
        "colab": {
          "base_uri": "https://localhost:8080/"
        },
        "id": "jpjmXNBxOCOa",
        "outputId": "bfbd9347-27c0-44cc-8164-8e7f9502affa"
      },
      "execution_count": null,
      "outputs": [
        {
          "output_type": "stream",
          "name": "stdout",
          "text": [
            "5\n",
            "8\n",
            "11\n",
            "14\n",
            "17\n"
          ]
        }
      ]
    },
    {
      "cell_type": "markdown",
      "source": [
        "Khi $s<0$, $i$ là số nguyên nhận các giá trị: $n_1, n_1 + s, n_1 + 2s, \\dots, n_1 + ks>n_2$ với $k$ là số nguyên dương"
      ],
      "metadata": {
        "id": "EHu_T5pzOV_x"
      }
    },
    {
      "cell_type": "code",
      "source": [
        "for i in range(20, 5,-3):\n",
        "  print(i)"
      ],
      "metadata": {
        "colab": {
          "base_uri": "https://localhost:8080/"
        },
        "id": "sExxeVnBOF-K",
        "outputId": "14404f96-d086-4a11-a38b-f6d507a664d0"
      },
      "execution_count": null,
      "outputs": [
        {
          "output_type": "stream",
          "name": "stdout",
          "text": [
            "20\n",
            "17\n",
            "14\n",
            "11\n",
            "8\n"
          ]
        }
      ]
    },
    {
      "cell_type": "markdown",
      "source": [
        "**Bài tập ví dụ**"
      ],
      "metadata": {
        "id": "eWkjuJCgOvuC"
      }
    },
    {
      "cell_type": "markdown",
      "source": [
        "Tính tổng các số nguyên liên tiếp từ $1$ đến $n$:\n",
        "$S_n = 1 + 2+ 3+ \\dots + n-1 + n$"
      ],
      "metadata": {
        "id": "4L6sWgDpO0ca"
      }
    },
    {
      "cell_type": "markdown",
      "source": [
        "Nhận xét $S_n=S_{n-1}+n$"
      ],
      "metadata": {
        "id": "cnI1HD94PDfa"
      }
    },
    {
      "cell_type": "code",
      "source": [
        "Sn=0\n",
        "n=20\n",
        "for i in range(1,n+1):\n",
        "  Sn=Sn+i\n",
        "print(\"Sn=\",Sn)\n",
        "\n"
      ],
      "metadata": {
        "colab": {
          "base_uri": "https://localhost:8080/"
        },
        "id": "emILfKWpOli7",
        "outputId": "5b67e607-48f4-4f40-c890-304d6839ad5d"
      },
      "execution_count": null,
      "outputs": [
        {
          "output_type": "stream",
          "name": "stdout",
          "text": [
            "Sn= 210\n"
          ]
        }
      ]
    },
    {
      "cell_type": "markdown",
      "source": [
        "Ví dụ 2:\n",
        "\n",
        "Tính tổng các phần tử của một danh sách $a_0, a_1, a_2, \\dots, a_{n-1}$\n",
        "\n",
        "\n",
        "$S = a_0 + a_1 +  a_2 +  \\dots + a_{n-1}$"
      ],
      "metadata": {
        "id": "d6HJprwXP_WS"
      }
    },
    {
      "cell_type": "markdown",
      "source": [
        "Câu lệnh nhập vào một mảng số nguyên từ bàn phím"
      ],
      "metadata": {
        "id": "Ye-q6zucQkQi"
      }
    },
    {
      "cell_type": "code",
      "source": [
        "a=list(map(int,input().split()))"
      ],
      "metadata": {
        "colab": {
          "base_uri": "https://localhost:8080/"
        },
        "id": "Cgb06z1aPh2r",
        "outputId": "0dfb4d04-fd0c-42fa-9f7d-ac99e6706ca3"
      },
      "execution_count": null,
      "outputs": [
        {
          "name": "stdout",
          "output_type": "stream",
          "text": [
            "1 2 3 4 5 6\n"
          ]
        }
      ]
    },
    {
      "cell_type": "code",
      "source": [
        "type(a)"
      ],
      "metadata": {
        "colab": {
          "base_uri": "https://localhost:8080/"
        },
        "id": "HcTsQeTjQYNz",
        "outputId": "74f9ec45-5780-4f1c-e014-8e8d683829af"
      },
      "execution_count": null,
      "outputs": [
        {
          "output_type": "execute_result",
          "data": {
            "text/plain": [
              "list"
            ]
          },
          "metadata": {},
          "execution_count": 22
        }
      ]
    },
    {
      "cell_type": "code",
      "source": [
        "print(a)"
      ],
      "metadata": {
        "colab": {
          "base_uri": "https://localhost:8080/"
        },
        "id": "2ly6m5raQY26",
        "outputId": "ba75e88a-9116-4017-ded9-0be09ef80c0a"
      },
      "execution_count": null,
      "outputs": [
        {
          "output_type": "stream",
          "name": "stdout",
          "text": [
            "[1, 2, 3, 4, 5, 6]\n"
          ]
        }
      ]
    },
    {
      "cell_type": "code",
      "source": [
        "S=0\n",
        "n=len(a)\n",
        "for i in range(n):\n",
        "  S=S+a[i]\n",
        "print('Tong =',S)"
      ],
      "metadata": {
        "colab": {
          "base_uri": "https://localhost:8080/"
        },
        "id": "FjM3UgN_Qduq",
        "outputId": "c3fdf773-ac54-4376-c4c7-8e5af3dbd78b"
      },
      "execution_count": null,
      "outputs": [
        {
          "output_type": "stream",
          "name": "stdout",
          "text": [
            "Tong = 21\n"
          ]
        }
      ]
    },
    {
      "cell_type": "markdown",
      "source": [
        "In các phần tử của một danh sách trên một hàng"
      ],
      "metadata": {
        "id": "gcWoN5RvRO67"
      }
    },
    {
      "cell_type": "code",
      "source": [
        "for i in range(len(a)):\n",
        "  print(a[i],end=' ')"
      ],
      "metadata": {
        "colab": {
          "base_uri": "https://localhost:8080/"
        },
        "id": "CPIAOKr_QyDb",
        "outputId": "85d95a7f-e7db-46f5-e267-4f36faf7df8d"
      },
      "execution_count": null,
      "outputs": [
        {
          "output_type": "stream",
          "name": "stdout",
          "text": [
            "1 2 3 4 5 6 "
          ]
        }
      ]
    },
    {
      "cell_type": "code",
      "source": [],
      "metadata": {
        "id": "-hfTFB_gRZcL"
      },
      "execution_count": null,
      "outputs": []
    }
  ]
}