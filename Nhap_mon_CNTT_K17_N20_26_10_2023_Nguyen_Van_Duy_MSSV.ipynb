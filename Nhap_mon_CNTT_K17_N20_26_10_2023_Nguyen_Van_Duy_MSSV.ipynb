{
  "nbformat": 4,
  "nbformat_minor": 0,
  "metadata": {
    "colab": {
      "provenance": []
    },
    "kernelspec": {
      "name": "python3",
      "display_name": "Python 3"
    },
    "language_info": {
      "name": "python"
    }
  },
  "cells": [
    {
      "cell_type": "markdown",
      "source": [
        "# Ngôn ngữ lập trình Python"
      ],
      "metadata": {
        "id": "vD8Ue4G3DehW"
      }
    },
    {
      "cell_type": "markdown",
      "source": [
        "## 1. Câu lệnh in ra màn hình"
      ],
      "metadata": {
        "id": "bvUGSHsjDiQN"
      }
    },
    {
      "cell_type": "code",
      "source": [
        "print(\"Chuỗi ký tự hoặc giá trị của biến\")"
      ],
      "metadata": {
        "colab": {
          "base_uri": "https://localhost:8080/"
        },
        "id": "G1pubwrtDp29",
        "outputId": "6371601c-2fe5-4714-a1a5-38374d6d308c"
      },
      "execution_count": null,
      "outputs": [
        {
          "output_type": "stream",
          "name": "stdout",
          "text": [
            "Chuỗi ký tự hoặc giá trị của biến\n"
          ]
        }
      ]
    },
    {
      "cell_type": "code",
      "source": [
        "print('Hello world')"
      ],
      "metadata": {
        "colab": {
          "base_uri": "https://localhost:8080/"
        },
        "id": "OSrOKQ9zDzdt",
        "outputId": "ce9da503-295c-4f45-dd91-2e706010dbf3"
      },
      "execution_count": null,
      "outputs": [
        {
          "output_type": "stream",
          "name": "stdout",
          "text": [
            "Hello world\n"
          ]
        }
      ]
    },
    {
      "cell_type": "code",
      "source": [
        "print(\"Welcome to Phenikaa University\")"
      ],
      "metadata": {
        "colab": {
          "base_uri": "https://localhost:8080/"
        },
        "id": "nrgqpOtqD2a-",
        "outputId": "c50fed32-0344-40ba-91d6-6db2341411a7"
      },
      "execution_count": null,
      "outputs": [
        {
          "output_type": "stream",
          "name": "stdout",
          "text": [
            "Welcome to Phenikaa University\n"
          ]
        }
      ]
    },
    {
      "cell_type": "markdown",
      "source": [
        "## 2. Các kiểu dữ liệu"
      ],
      "metadata": {
        "id": "unvAnv_vEEzF"
      }
    },
    {
      "cell_type": "markdown",
      "source": [
        "### 2.1 Kiểu số nguyên"
      ],
      "metadata": {
        "id": "ziKfil5PEKzt"
      }
    },
    {
      "cell_type": "code",
      "source": [
        "x=1"
      ],
      "metadata": {
        "id": "qjF9cqatEPXv"
      },
      "execution_count": null,
      "outputs": []
    },
    {
      "cell_type": "code",
      "source": [
        "print(type(x))"
      ],
      "metadata": {
        "colab": {
          "base_uri": "https://localhost:8080/"
        },
        "id": "zRcqcwYYEYTG",
        "outputId": "aad5ab97-58d7-4a0b-99e8-da4240fcc8e6"
      },
      "execution_count": null,
      "outputs": [
        {
          "output_type": "stream",
          "name": "stdout",
          "text": [
            "<class 'int'>\n"
          ]
        }
      ]
    },
    {
      "cell_type": "markdown",
      "source": [
        "### 2.2 Kiểu số thực"
      ],
      "metadata": {
        "id": "UddBMxoHEs7G"
      }
    },
    {
      "cell_type": "code",
      "source": [
        "x=1.2"
      ],
      "metadata": {
        "id": "YHWfQ8pAEcVd"
      },
      "execution_count": null,
      "outputs": []
    },
    {
      "cell_type": "code",
      "source": [
        "print(type(x))"
      ],
      "metadata": {
        "colab": {
          "base_uri": "https://localhost:8080/"
        },
        "id": "cI7n7f9wEzwu",
        "outputId": "bf982219-b5d7-4c44-ee62-5ca8998c84c9"
      },
      "execution_count": null,
      "outputs": [
        {
          "output_type": "stream",
          "name": "stdout",
          "text": [
            "<class 'float'>\n"
          ]
        }
      ]
    },
    {
      "cell_type": "markdown",
      "source": [
        "### 2.3 Kiểu số phức"
      ],
      "metadata": {
        "id": "qIRUxFu7E7d-"
      }
    },
    {
      "cell_type": "markdown",
      "source": [
        "Số phức $z=a+ bi $ trong đó $i$ là số ảo được định nghĩa $i^2 = -1$"
      ],
      "metadata": {
        "id": "9rtg7U_CFJWN"
      }
    },
    {
      "cell_type": "code",
      "source": [
        "z=3+ 4j"
      ],
      "metadata": {
        "id": "oTjlGQP7E1VO"
      },
      "execution_count": null,
      "outputs": []
    },
    {
      "cell_type": "code",
      "source": [
        "print(type(z))"
      ],
      "metadata": {
        "colab": {
          "base_uri": "https://localhost:8080/"
        },
        "id": "m5MMs2AJFDC9",
        "outputId": "8a474283-af45-482b-96b7-ed2bcb25a422"
      },
      "execution_count": null,
      "outputs": [
        {
          "output_type": "stream",
          "name": "stdout",
          "text": [
            "<class 'complex'>\n"
          ]
        }
      ]
    },
    {
      "cell_type": "code",
      "source": [
        "z=1+3*1j"
      ],
      "metadata": {
        "id": "P4MPmhCeFESe"
      },
      "execution_count": null,
      "outputs": []
    },
    {
      "cell_type": "code",
      "source": [
        "print(z)"
      ],
      "metadata": {
        "colab": {
          "base_uri": "https://localhost:8080/"
        },
        "id": "s9PqTRyKFhIO",
        "outputId": "d5b318a8-4318-4888-ae11-64f726cb559b"
      },
      "execution_count": null,
      "outputs": [
        {
          "output_type": "stream",
          "name": "stdout",
          "text": [
            "(1+3j)\n"
          ]
        }
      ]
    },
    {
      "cell_type": "markdown",
      "source": [
        "## 3. Các phép toán cơ bản"
      ],
      "metadata": {
        "id": "bm1sBccmFn89"
      }
    },
    {
      "cell_type": "markdown",
      "source": [
        "### 3.1 Phép cộng, trừ, nhân, và chia"
      ],
      "metadata": {
        "id": "HloWwnDqFr7l"
      }
    },
    {
      "cell_type": "markdown",
      "source": [
        "**Phép cộng**"
      ],
      "metadata": {
        "id": "VrkBzje3FwkW"
      }
    },
    {
      "cell_type": "code",
      "source": [
        "a=5\n",
        "b=2\n",
        "c=a+b\n",
        "print(\"c=\",c)"
      ],
      "metadata": {
        "colab": {
          "base_uri": "https://localhost:8080/"
        },
        "id": "BB3JZ1zwFzuF",
        "outputId": "33e6bd15-72b4-413e-be03-a559e3d631a7"
      },
      "execution_count": null,
      "outputs": [
        {
          "output_type": "stream",
          "name": "stdout",
          "text": [
            "c= 7\n"
          ]
        }
      ]
    },
    {
      "cell_type": "markdown",
      "source": [
        "**Phép** **trừ**"
      ],
      "metadata": {
        "id": "XGJCd4cIF9k9"
      }
    },
    {
      "cell_type": "code",
      "source": [
        "a=5\n",
        "b=2\n",
        "c=a-b\n",
        "print(\"c=\",c)"
      ],
      "metadata": {
        "colab": {
          "base_uri": "https://localhost:8080/"
        },
        "id": "Am4MJVJaF5L9",
        "outputId": "e63a5d97-7daf-40be-f0e1-5232e86240ee"
      },
      "execution_count": null,
      "outputs": [
        {
          "output_type": "stream",
          "name": "stdout",
          "text": [
            "c= 3\n"
          ]
        }
      ]
    },
    {
      "cell_type": "markdown",
      "source": [
        "**Phép nhân**"
      ],
      "metadata": {
        "id": "qNCgXS-yGJo1"
      }
    },
    {
      "cell_type": "code",
      "source": [
        "a=6\n",
        "b=5\n",
        "c=a*b\n",
        "print(\"c=\",c)"
      ],
      "metadata": {
        "colab": {
          "base_uri": "https://localhost:8080/"
        },
        "id": "3Bg3xIXdGDqd",
        "outputId": "73af5387-ce5b-4451-f325-1cb19ff655e6"
      },
      "execution_count": null,
      "outputs": [
        {
          "output_type": "stream",
          "name": "stdout",
          "text": [
            "c= 30\n"
          ]
        }
      ]
    },
    {
      "cell_type": "markdown",
      "source": [
        "**Phép chia**"
      ],
      "metadata": {
        "id": "n3D0zX6IGTbG"
      }
    },
    {
      "cell_type": "code",
      "source": [
        "a=6\n",
        "b=2\n",
        "c=a/b\n",
        "print(\"c=\",c)"
      ],
      "metadata": {
        "colab": {
          "base_uri": "https://localhost:8080/"
        },
        "id": "x93geNe1GRRe",
        "outputId": "6486662f-3e25-4083-a8ea-29f3059ef3f5"
      },
      "execution_count": null,
      "outputs": [
        {
          "output_type": "stream",
          "name": "stdout",
          "text": [
            "c= 3.0\n"
          ]
        }
      ]
    },
    {
      "cell_type": "markdown",
      "source": [
        "**Phép chia lấy phần nguyên**"
      ],
      "metadata": {
        "id": "F1VQuVg4GgKN"
      }
    },
    {
      "cell_type": "code",
      "source": [
        "a=10\n",
        "b=3\n",
        "c=a//b\n",
        "print(\"c=\",c)"
      ],
      "metadata": {
        "colab": {
          "base_uri": "https://localhost:8080/"
        },
        "id": "PuA5EHpiGaU9",
        "outputId": "8e6be52c-72b9-4b68-d165-7e1e1c71bd53"
      },
      "execution_count": null,
      "outputs": [
        {
          "output_type": "stream",
          "name": "stdout",
          "text": [
            "c= 3\n"
          ]
        }
      ]
    },
    {
      "cell_type": "markdown",
      "source": [
        "**Phép tính chia lấy phần dư**"
      ],
      "metadata": {
        "id": "K57E0ezZGtrm"
      }
    },
    {
      "cell_type": "code",
      "source": [
        "a=10\n",
        "b=3\n",
        "c=a%b\n",
        "print(\"c=\",c)"
      ],
      "metadata": {
        "colab": {
          "base_uri": "https://localhost:8080/"
        },
        "id": "TBU1LkQJGq--",
        "outputId": "a343df08-5732-4535-df06-e564ff634cf1"
      },
      "execution_count": null,
      "outputs": [
        {
          "output_type": "stream",
          "name": "stdout",
          "text": [
            "c= 1\n"
          ]
        }
      ]
    },
    {
      "cell_type": "markdown",
      "source": [
        "### 3.2 Phép tính lũy thừa $a^b$"
      ],
      "metadata": {
        "id": "Tcvr8qicHAu-"
      }
    },
    {
      "cell_type": "code",
      "source": [
        "a=4\n",
        "b=3\n",
        "c=a**b # Phép tính lũy thừa\n",
        "print(\"c=\",c)\n"
      ],
      "metadata": {
        "colab": {
          "base_uri": "https://localhost:8080/"
        },
        "id": "bBOXDcDEG2ht",
        "outputId": "35635ee1-8fc1-4b04-942c-884aef7024ca"
      },
      "execution_count": null,
      "outputs": [
        {
          "output_type": "stream",
          "name": "stdout",
          "text": [
            "c= 64\n"
          ]
        }
      ]
    },
    {
      "cell_type": "markdown",
      "source": [
        "3.3 Hàm số $\\sqrt{x}$"
      ],
      "metadata": {
        "id": "6er8wmaKHez-"
      }
    },
    {
      "cell_type": "code",
      "source": [
        "import math\n",
        "x=16\n",
        "y=math.sqrt(x)\n",
        "print(\"y=\",y)"
      ],
      "metadata": {
        "colab": {
          "base_uri": "https://localhost:8080/"
        },
        "id": "JrLABJmgHYCW",
        "outputId": "49ba1cf1-c7b3-49a2-82bd-79065175b740"
      },
      "execution_count": null,
      "outputs": [
        {
          "output_type": "stream",
          "name": "stdout",
          "text": [
            "y= 4.0\n"
          ]
        }
      ]
    },
    {
      "cell_type": "code",
      "source": [
        "import numpy\n",
        "x=9\n",
        "y=numpy.sqrt(x)\n",
        "print(\"y=\",y)"
      ],
      "metadata": {
        "colab": {
          "base_uri": "https://localhost:8080/"
        },
        "id": "bvJvwHR6Hy03",
        "outputId": "e2f18ebb-c787-4847-f8c3-77c75460322a"
      },
      "execution_count": null,
      "outputs": [
        {
          "output_type": "stream",
          "name": "stdout",
          "text": [
            "y= 3.0\n"
          ]
        }
      ]
    },
    {
      "cell_type": "markdown",
      "source": [
        "### 3.3 Các hàm số lượng giác"
      ],
      "metadata": {
        "id": "apPEiaxPIHR2"
      }
    },
    {
      "cell_type": "markdown",
      "source": [
        "Hàm số $y=\\cos x$"
      ],
      "metadata": {
        "id": "sQVmZ8dNIKye"
      }
    },
    {
      "cell_type": "code",
      "source": [
        "import math"
      ],
      "metadata": {
        "id": "8IU87b13Hsx_"
      },
      "execution_count": null,
      "outputs": []
    },
    {
      "cell_type": "code",
      "source": [
        "pi=math.pi\n",
        "cos = math.cos\n",
        "sin=math.sin\n",
        "tan=math.tan"
      ],
      "metadata": {
        "id": "8uw-nSnVIVVP"
      },
      "execution_count": null,
      "outputs": []
    },
    {
      "cell_type": "code",
      "source": [
        "x=pi/3\n",
        "y=cos(x)\n",
        "print(\"y=\",y)"
      ],
      "metadata": {
        "colab": {
          "base_uri": "https://localhost:8080/"
        },
        "id": "7Jbpg2MoIZhI",
        "outputId": "2237930a-4cd7-4346-d4fe-178760f43bb5"
      },
      "execution_count": null,
      "outputs": [
        {
          "output_type": "stream",
          "name": "stdout",
          "text": [
            "y= 0.5000000000000001\n"
          ]
        }
      ]
    },
    {
      "cell_type": "markdown",
      "source": [
        "Hàm số $y=\\sin x$"
      ],
      "metadata": {
        "id": "JE_JNZgYI4Bn"
      }
    },
    {
      "cell_type": "code",
      "source": [
        "x=pi/6\n",
        "y=sin(x)\n",
        "print(\"y=\",y)"
      ],
      "metadata": {
        "colab": {
          "base_uri": "https://localhost:8080/"
        },
        "id": "9MGz1mFJI7Lf",
        "outputId": "7b7ec0ec-5327-479a-de15-7390355b41a4"
      },
      "execution_count": null,
      "outputs": [
        {
          "output_type": "stream",
          "name": "stdout",
          "text": [
            "y= 0.49999999999999994\n"
          ]
        }
      ]
    },
    {
      "cell_type": "code",
      "source": [
        "x=pi/6\n",
        "y=math.sin(x)\n",
        "print(\"y=\",y)"
      ],
      "metadata": {
        "colab": {
          "base_uri": "https://localhost:8080/"
        },
        "id": "I0eBBj2MJCn_",
        "outputId": "cb8833d8-66cc-4956-ba91-ebafbc7e98fc"
      },
      "execution_count": null,
      "outputs": [
        {
          "output_type": "stream",
          "name": "stdout",
          "text": [
            "y= 0.49999999999999994\n"
          ]
        }
      ]
    },
    {
      "cell_type": "markdown",
      "source": [
        "Hàm số $\\tan x$"
      ],
      "metadata": {
        "id": "NckFaDCrJQr3"
      }
    },
    {
      "cell_type": "code",
      "source": [
        "x=pi/4\n",
        "y=tan(x)\n",
        "print(\"y=\",y)"
      ],
      "metadata": {
        "colab": {
          "base_uri": "https://localhost:8080/"
        },
        "id": "YaaJJZn6JS6O",
        "outputId": "44286aa5-36ab-4d0f-e57d-68f33e25fbe0"
      },
      "execution_count": null,
      "outputs": [
        {
          "output_type": "stream",
          "name": "stdout",
          "text": [
            "y= 0.9999999999999999\n"
          ]
        }
      ]
    },
    {
      "cell_type": "code",
      "source": [],
      "metadata": {
        "id": "B0mZb1gFJXM-"
      },
      "execution_count": null,
      "outputs": []
    },
    {
      "cell_type": "markdown",
      "source": [
        "### 3.4 Hàm số mũ $e^x$"
      ],
      "metadata": {
        "id": "-QWVrH2nJfv_"
      }
    },
    {
      "cell_type": "code",
      "source": [
        "import math\n"
      ],
      "metadata": {
        "id": "PFO73EHhJi5_"
      },
      "execution_count": null,
      "outputs": []
    },
    {
      "cell_type": "code",
      "source": [
        "x=1\n",
        "y=math.exp(x)\n",
        "print(\"y=\",y)"
      ],
      "metadata": {
        "colab": {
          "base_uri": "https://localhost:8080/"
        },
        "id": "tOOwPtHkJr2_",
        "outputId": "feff1ce3-8c01-49a7-cac1-c43b5b0281bf"
      },
      "execution_count": null,
      "outputs": [
        {
          "output_type": "stream",
          "name": "stdout",
          "text": [
            "y= 2.718281828459045\n"
          ]
        }
      ]
    },
    {
      "cell_type": "markdown",
      "source": [
        "Viết tắt"
      ],
      "metadata": {
        "id": "iwgPLmjUJ2TH"
      }
    },
    {
      "cell_type": "code",
      "source": [
        "exp=math.exp"
      ],
      "metadata": {
        "id": "3ESZxPEfJy0f"
      },
      "execution_count": null,
      "outputs": []
    },
    {
      "cell_type": "code",
      "source": [
        "x=1\n",
        "y=exp(x)\n",
        "print(\"y=\",y)"
      ],
      "metadata": {
        "colab": {
          "base_uri": "https://localhost:8080/"
        },
        "id": "A-yTt1u8J4mQ",
        "outputId": "633252e6-9c7e-40ef-9c71-248c26fd3c58"
      },
      "execution_count": null,
      "outputs": [
        {
          "output_type": "stream",
          "name": "stdout",
          "text": [
            "y= 2.718281828459045\n"
          ]
        }
      ]
    },
    {
      "cell_type": "code",
      "source": [],
      "metadata": {
        "id": "z2yTJekVJ88-"
      },
      "execution_count": null,
      "outputs": []
    },
    {
      "cell_type": "markdown",
      "source": [
        "### 3.5 Các hàm số hyperbolic"
      ],
      "metadata": {
        "id": "B0P16jmBKBFn"
      }
    },
    {
      "cell_type": "markdown",
      "source": [
        "Hàm số $y= \\cosh x = \\displaystyle \\frac{e^x + e^{-x}}{2}$"
      ],
      "metadata": {
        "id": "rtwtgSn-KF3_"
      }
    },
    {
      "cell_type": "code",
      "source": [
        "import math\n",
        "cosh=math.cosh"
      ],
      "metadata": {
        "id": "3mTR-KTUKJm_"
      },
      "execution_count": null,
      "outputs": []
    },
    {
      "cell_type": "code",
      "source": [
        "x=-1\n",
        "y=cosh(x)\n",
        "print(\"y=\",y)"
      ],
      "metadata": {
        "colab": {
          "base_uri": "https://localhost:8080/"
        },
        "id": "9zJHtVm3KSxP",
        "outputId": "71141118-7e79-4cbe-c62f-66bee18ed70b"
      },
      "execution_count": null,
      "outputs": [
        {
          "output_type": "stream",
          "name": "stdout",
          "text": [
            "y= 1.5430806348152437\n"
          ]
        }
      ]
    },
    {
      "cell_type": "markdown",
      "source": [
        "Hám số $y= \\sinh x =\\displaystyle \\frac{e^x - e^{-x}}{2}$"
      ],
      "metadata": {
        "id": "_3m7X-P9KyUf"
      }
    },
    {
      "cell_type": "code",
      "source": [
        "import math\n",
        "sinh=math.sinh"
      ],
      "metadata": {
        "id": "7axJlAtjKYiO"
      },
      "execution_count": null,
      "outputs": []
    },
    {
      "cell_type": "code",
      "source": [
        "x=-1\n",
        "y=sinh(x)\n",
        "print(\"y=\",y)"
      ],
      "metadata": {
        "colab": {
          "base_uri": "https://localhost:8080/"
        },
        "id": "_vMjH1bILB3v",
        "outputId": "1ee2f41d-0aa4-4b2a-a461-694ab6514ba9"
      },
      "execution_count": null,
      "outputs": [
        {
          "output_type": "stream",
          "name": "stdout",
          "text": [
            "y= -1.1752011936438014\n"
          ]
        }
      ]
    },
    {
      "cell_type": "markdown",
      "source": [
        "Hàm số $y = \\tanh x = \\displaystyle \\frac{\\sinh x}{\\cosh x}= \\displaystyle  \\frac{e^x - e^{-x}}{e^x + e^{-x}} $"
      ],
      "metadata": {
        "id": "8c9T1_EVLPaf"
      }
    },
    {
      "cell_type": "code",
      "source": [
        "import math\n",
        "tanh=math.tanh"
      ],
      "metadata": {
        "id": "wqjIR6wHLD5v"
      },
      "execution_count": null,
      "outputs": []
    },
    {
      "cell_type": "code",
      "source": [
        "x=1\n",
        "y=tanh(x)\n",
        "print(\"y=\",y)"
      ],
      "metadata": {
        "colab": {
          "base_uri": "https://localhost:8080/"
        },
        "id": "yGpUQwUDLn_P",
        "outputId": "35d8b26d-66f1-46aa-fc98-8283a0c5b8db"
      },
      "execution_count": null,
      "outputs": [
        {
          "output_type": "stream",
          "name": "stdout",
          "text": [
            "y= 0.7615941559557649\n"
          ]
        }
      ]
    },
    {
      "cell_type": "markdown",
      "source": [
        "### 3.7 Hàm số logarite"
      ],
      "metadata": {
        "id": "Sv4Zbmz0L03f"
      }
    },
    {
      "cell_type": "markdown",
      "source": [
        "Hàm số $y= \\ln x$"
      ],
      "metadata": {
        "id": "yb3h9lTtL5mf"
      }
    },
    {
      "cell_type": "code",
      "source": [
        "import math\n",
        "ln=math.log"
      ],
      "metadata": {
        "id": "sw_mqaXeLrXP"
      },
      "execution_count": null,
      "outputs": []
    },
    {
      "cell_type": "code",
      "source": [
        "x=exp(2)\n",
        "y=ln(x)\n",
        "print(\"y=\",y)"
      ],
      "metadata": {
        "colab": {
          "base_uri": "https://localhost:8080/"
        },
        "id": "rSIJ6Ny9MFpn",
        "outputId": "7e482ea7-e2d4-408b-c495-9650102ac606"
      },
      "execution_count": null,
      "outputs": [
        {
          "output_type": "stream",
          "name": "stdout",
          "text": [
            "y= 2.0\n"
          ]
        }
      ]
    },
    {
      "cell_type": "markdown",
      "source": [
        "Hàm số $y= \\log x = \\log_{10} x$"
      ],
      "metadata": {
        "id": "A5pARLOeMSIo"
      }
    },
    {
      "cell_type": "markdown",
      "source": [],
      "metadata": {
        "id": "pK1WGfv4M6QO"
      }
    },
    {
      "cell_type": "code",
      "source": [
        "import math\n"
      ],
      "metadata": {
        "id": "Oe5C6CK4MLvf"
      },
      "execution_count": null,
      "outputs": []
    },
    {
      "cell_type": "code",
      "source": [
        "x=1000\n",
        "y=math.log10(x)\n",
        "print(\"y=\",y)"
      ],
      "metadata": {
        "colab": {
          "base_uri": "https://localhost:8080/"
        },
        "id": "25e3KRtqMf0P",
        "outputId": "1556448d-04a0-418e-a5ac-32af776e230e"
      },
      "execution_count": null,
      "outputs": [
        {
          "output_type": "stream",
          "name": "stdout",
          "text": [
            "y= 3.0\n"
          ]
        }
      ]
    },
    {
      "cell_type": "markdown",
      "source": [
        "Hàm số $y= \\log_2 x$"
      ],
      "metadata": {
        "id": "UDT7zBpFMwYA"
      }
    },
    {
      "cell_type": "code",
      "source": [
        "import math"
      ],
      "metadata": {
        "id": "EUUCFsIMM0JA"
      },
      "execution_count": null,
      "outputs": []
    },
    {
      "cell_type": "code",
      "source": [
        "x=8\n",
        "y=math.log2(x)\n",
        "print(\"y=\",y)"
      ],
      "metadata": {
        "colab": {
          "base_uri": "https://localhost:8080/"
        },
        "id": "Qkg3Es_RM2EP",
        "outputId": "19719253-def0-4e87-ceae-7f07ff2f0559"
      },
      "execution_count": null,
      "outputs": [
        {
          "output_type": "stream",
          "name": "stdout",
          "text": [
            "y= 3.0\n"
          ]
        }
      ]
    },
    {
      "cell_type": "markdown",
      "source": [
        "## 4. Vẽ đồ thị"
      ],
      "metadata": {
        "id": "KsYLEk_TNPdR"
      }
    },
    {
      "cell_type": "markdown",
      "source": [
        "vẽ đồ thị hàm số $y=f(x)$. Sử dụng thư viện \"MathPlotLib\""
      ],
      "metadata": {
        "id": "rLEo9xP1NT2Y"
      }
    },
    {
      "cell_type": "code",
      "source": [
        "import matplotlib.pyplot as plt\n"
      ],
      "metadata": {
        "id": "1X4AHzwMNXnY"
      },
      "execution_count": null,
      "outputs": []
    },
    {
      "cell_type": "code",
      "source": [
        "import numpy as np"
      ],
      "metadata": {
        "id": "_AKxmy_xNomh"
      },
      "execution_count": null,
      "outputs": []
    },
    {
      "cell_type": "code",
      "source": [
        "x=np.linspace(0,pi,100)\n",
        "print(x)"
      ],
      "metadata": {
        "colab": {
          "base_uri": "https://localhost:8080/"
        },
        "id": "A-oQg9o5NAsP",
        "outputId": "9dd2dc49-2e97-4681-b51e-5f5f181acbfb"
      },
      "execution_count": null,
      "outputs": [
        {
          "output_type": "stream",
          "name": "stdout",
          "text": [
            "[0.         0.03173326 0.06346652 0.09519978 0.12693304 0.1586663\n",
            " 0.19039955 0.22213281 0.25386607 0.28559933 0.31733259 0.34906585\n",
            " 0.38079911 0.41253237 0.44426563 0.47599889 0.50773215 0.53946541\n",
            " 0.57119866 0.60293192 0.63466518 0.66639844 0.6981317  0.72986496\n",
            " 0.76159822 0.79333148 0.82506474 0.856798   0.88853126 0.92026451\n",
            " 0.95199777 0.98373103 1.01546429 1.04719755 1.07893081 1.11066407\n",
            " 1.14239733 1.17413059 1.20586385 1.23759711 1.26933037 1.30106362\n",
            " 1.33279688 1.36453014 1.3962634  1.42799666 1.45972992 1.49146318\n",
            " 1.52319644 1.5549297  1.58666296 1.61839622 1.65012947 1.68186273\n",
            " 1.71359599 1.74532925 1.77706251 1.80879577 1.84052903 1.87226229\n",
            " 1.90399555 1.93572881 1.96746207 1.99919533 2.03092858 2.06266184\n",
            " 2.0943951  2.12612836 2.15786162 2.18959488 2.22132814 2.2530614\n",
            " 2.28479466 2.31652792 2.34826118 2.37999443 2.41172769 2.44346095\n",
            " 2.47519421 2.50692747 2.53866073 2.57039399 2.60212725 2.63386051\n",
            " 2.66559377 2.69732703 2.72906028 2.76079354 2.7925268  2.82426006\n",
            " 2.85599332 2.88772658 2.91945984 2.9511931  2.98292636 3.01465962\n",
            " 3.04639288 3.07812614 3.10985939 3.14159265]\n"
          ]
        }
      ]
    },
    {
      "cell_type": "code",
      "source": [
        "x=np.linspace(-3,3,100)\n",
        "y=np.sin(x)\n",
        "print(y)"
      ],
      "metadata": {
        "colab": {
          "base_uri": "https://localhost:8080/"
        },
        "id": "Y-tNi14mN3ig",
        "outputId": "cee77bf1-6ab2-49d6-a4c5-839f8b41d606"
      },
      "execution_count": null,
      "outputs": [
        {
          "output_type": "stream",
          "name": "stdout",
          "text": [
            "[-0.14112001 -0.20082374 -0.25979004 -0.31780241 -0.37464782 -0.43011753\n",
            " -0.48400786 -0.53612093 -0.58626538 -0.63425707 -0.6799198  -0.72308588\n",
            " -0.76359681 -0.80130384 -0.8360685  -0.86776314 -0.89627139 -0.92148855\n",
            " -0.94332203 -0.96169166 -0.97652999 -0.98778253 -0.99540796 -0.99937828\n",
            " -0.99967891 -0.99630876 -0.98928018 -0.978619   -0.96436436 -0.9465686\n",
            " -0.92529707 -0.90062788 -0.87265161 -0.84147098 -0.8072005  -0.76996601\n",
            " -0.72990422 -0.68716224 -0.64189703 -0.59427479 -0.54447039 -0.49266671\n",
            " -0.43905397 -0.38382904 -0.3271947  -0.26935891 -0.21053404 -0.1509361\n",
            " -0.09078392 -0.03029839  0.03029839  0.09078392  0.1509361   0.21053404\n",
            "  0.26935891  0.3271947   0.38382904  0.43905397  0.49266671  0.54447039\n",
            "  0.59427479  0.64189703  0.68716224  0.72990422  0.76996601  0.8072005\n",
            "  0.84147098  0.87265161  0.90062788  0.92529707  0.9465686   0.96436436\n",
            "  0.978619    0.98928018  0.99630876  0.99967891  0.99937828  0.99540796\n",
            "  0.98778253  0.97652999  0.96169166  0.94332203  0.92148855  0.89627139\n",
            "  0.86776314  0.8360685   0.80130384  0.76359681  0.72308588  0.6799198\n",
            "  0.63425707  0.58626538  0.53612093  0.48400786  0.43011753  0.37464782\n",
            "  0.31780241  0.25979004  0.20082374  0.14112001]\n"
          ]
        }
      ]
    },
    {
      "cell_type": "code",
      "source": [
        "x=np.linspace(-3,3,100)\n",
        "y=np.cosh(x)\n",
        "plt.plot(x,y)\n",
        "plt.xlabel('x')\n",
        "plt.ylabel('y')"
      ],
      "metadata": {
        "colab": {
          "base_uri": "https://localhost:8080/",
          "height": 466
        },
        "id": "kUQIZaArOJKw",
        "outputId": "9de0c627-06e8-4f0a-9ecc-551c7891aa2e"
      },
      "execution_count": null,
      "outputs": [
        {
          "output_type": "execute_result",
          "data": {
            "text/plain": [
              "Text(0, 0.5, 'y')"
            ]
          },
          "metadata": {},
          "execution_count": 76
        },
        {
          "output_type": "display_data",
          "data": {
            "text/plain": [
              "<Figure size 640x480 with 1 Axes>"
            ],
            "image/png": "[encoded data removed]"
          },
          "metadata": {}
        }
      ]
    },
    {
      "cell_type": "markdown",
      "source": [
        "## Bài tập"
      ],
      "metadata": {
        "id": "7CegFBq3PrRa"
      }
    },
    {
      "cell_type": "markdown",
      "source": [
        "### Bài tập 1\n",
        "Cho $x = \\pi/4$. Hãy tính giá trị sau:\n",
        "$y = \\cos(x) \\sqrt{x^2 + e^x} + \\frac{\\displaystyle \\sqrt{e^x + 1}}{1+ \\cosh^2 (x)}  \\sinh x + \\ln \\left( \\sqrt x + e^x \\right )$\n"
      ],
      "metadata": {
        "id": "gMbcWyKhPtnp"
      }
    },
    {
      "cell_type": "markdown",
      "source": [
        "## Bài tập 2\n",
        "\n",
        "Hãy vẽ đồ thị hàm số $ y = \\sqrt{x^2 +1} + \\sinh x$ trong khoảng $x \\in [-1,1]$"
      ],
      "metadata": {
        "id": "bhOUYyaVPxOB"
      }
    },
    {
      "cell_type": "code",
      "source": [],
      "metadata": {
        "id": "DL3PQbINRImx"
      },
      "execution_count": null,
      "outputs": []
    }
  ]
}